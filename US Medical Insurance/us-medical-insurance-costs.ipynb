{
 "cells": [
  {
   "cell_type": "markdown",
   "metadata": {},
   "source": [
    "# U.S. Medical Insurance Costs\n",
    "\n",
    "The goal of this project will be to analyze a dataset containing patient information and gain insigth into potential use cases for the data, using Python fundamental methods. The dataset is contained in a **CSV** file and contains medical insurance costs, as well as other attributes from anonymous people across the U.S. The file can be downloaded from [kaggle](https://www.kaggle.com/datasets/mirichoi0218/insurance)"
   ]
  },
  {
   "cell_type": "markdown",
   "metadata": {},
   "source": [
    "## Preparation\n",
    "<hr>"
   ]
  },
  {
   "cell_type": "markdown",
   "metadata": {},
   "source": [
    "### Import the data\n",
    "As first step, we will import the data that is contained in the CSV file. As the file was previously investigated, it is known that it contains 7 columuns corresponding to _age_, _sex_, _bmi_, _children_, _smoker_, _region_ and _insurance_charges_ from 1338 anonymous people in the U.S."
   ]
  },
  {
   "cell_type": "code",
   "execution_count": 1,
   "metadata": {},
   "outputs": [
    {
     "name": "stdout",
     "output_type": "stream",
     "text": [
      "{'age': '19', 'sex': 'female', 'bmi': '27.9', 'children': '0', 'smoker': 'yes', 'region': 'southwest', 'charges': '16884.924'}\n",
      "{'age': '18', 'sex': 'male', 'bmi': '33.77', 'children': '1', 'smoker': 'no', 'region': 'southeast', 'charges': '1725.5523'}\n",
      "{'age': '28', 'sex': 'male', 'bmi': '33', 'children': '3', 'smoker': 'no', 'region': 'southeast', 'charges': '4449.462'}\n",
      "{'age': '33', 'sex': 'male', 'bmi': '22.705', 'children': '0', 'smoker': 'no', 'region': 'northwest', 'charges': '21984.47061'}\n",
      "{'age': '32', 'sex': 'male', 'bmi': '28.88', 'children': '0', 'smoker': 'no', 'region': 'northwest', 'charges': '3866.8552'}\n"
     ]
    }
   ],
   "source": [
    "import csv\n",
    "\n",
    "ages = []\n",
    "sex_count = []\n",
    "bmis = []\n",
    "number_of_children = []\n",
    "smokers = []\n",
    "regions = []\n",
    "charges = []\n",
    "#This last list will contain all records, cleaned\n",
    "complete = []\n",
    "\n",
    "with open('insurance.csv') as dataset:\n",
    "    data = csv.DictReader(dataset)\n",
    "    for i, item in enumerate(data):\n",
    "        #Get an idea of each column by looking at the first 5 records\n",
    "        if i < 5:\n",
    "            print(item)\n",
    "        \n",
    "        age = int(item['age'])\n",
    "        ages.append(age)\n",
    "        \n",
    "        sex_count.append(item['sex'])\n",
    "        \n",
    "        bmi = round(float(item['bmi']), 2)\n",
    "        bmis.append(bmi)\n",
    "        \n",
    "        n_c = int(item['children'])\n",
    "        number_of_children.append(n_c)\n",
    "        \n",
    "        smokers.append(item['smoker'])\n",
    "        \n",
    "        regions.append(item['region'])\n",
    "        \n",
    "        cost = round(float(item['charges']), 4)\n",
    "        charges.append(cost)\n",
    "        \n",
    "        \n",
    "        complete.append({\n",
    "            'age': age,\n",
    "            'sex': item['sex'],\n",
    "            'bmi': bmi,\n",
    "            'children': n_c,\n",
    "            'smoker': item['smoker'],\n",
    "            'region': item['region'],\n",
    "            'charges': cost\n",
    "        })\n",
    "        \n",
    "            "
   ]
  },
  {
   "cell_type": "markdown",
   "metadata": {},
   "source": [
    "### Declare helper functions\n",
    "For the second step of the preparations, we will declare functions to help us yield statistical information about each column, which we will do in the next step of this project"
   ]
  },
  {
   "cell_type": "code",
   "execution_count": 2,
   "metadata": {},
   "outputs": [],
   "source": [
    "from math import sqrt\n",
    "from collections import Counter\n",
    "\n",
    "def get_mean(lst):\n",
    "    '''\n",
    "    Calculates and returns the mean of a list of (numerical) values\n",
    "    '''\n",
    "    mean = sum(lst) / len(lst)\n",
    "    return round(float(mean), 4)\n",
    "\n",
    "def get_std_dev(lst):\n",
    "    '''\n",
    "    Calculates and returns the standard deviation of a population\n",
    "    '''\n",
    "    mean = get_mean(lst)\n",
    "    sum_of_squares = sum([(x - mean)**2 for x in lst])\n",
    "    std_dev = sqrt(sum_of_squares / (len(lst)) )\n",
    "    return round(float(std_dev), 4)\n",
    "\n",
    "def get_frequencies(lst):\n",
    "    '''\n",
    "    Returns a dictionary with the keys being the categories found in the list\n",
    "    and the values being the frequencies of each category\n",
    "    '''\n",
    "    return Counter(lst)\n",
    "\n",
    "def get_proportions(lst):\n",
    "    '''\n",
    "    Returns the percentage of each category relative to the total\n",
    "    values that exist in the list\n",
    "    '''\n",
    "    frequencies = get_frequencies(lst)\n",
    "    proportions = {}\n",
    "    total = sum(frequencies.values())\n",
    "    for key in frequencies.keys():\n",
    "        proportions[key] = round(frequencies[key] / total, 4)\n",
    "    return proportions\n",
    "\n",
    "def print_frequencies(data, variable_name):\n",
    "    '''\n",
    "    Prints the frequency distribution as a table\n",
    "    '''\n",
    "    print(f'{variable_name:^15}{\"Count\":^15}')\n",
    "    for category, count in data.items():\n",
    "        print(f'{category:^15}{count:^15}')\n",
    "        \n",
    "def print_proportions(categories, variable_name):\n",
    "    '''\n",
    "    Prints a table containing all the categories in 'categories' as well\n",
    "    as the percentage that each one represents of the whole.\n",
    "    Assumes the data is generated by the 'get_proportions' function\n",
    "    '''\n",
    "    print(f'{variable_name:^15}{\"Percentage\":^15}')\n",
    "    for category, percentage in categories.items():\n",
    "        formated_p = str(round(percentage*100, 2))+'%'\n",
    "        print(f'{category:^15}{formated_p:^15}')"
   ]
  },
  {
   "cell_type": "markdown",
   "metadata": {},
   "source": [
    "For the get_standard_deviation function, the formula was taken from [Scribbr](https://www.scribbr.com/statistics/standard-deviation/), and is the following: <br>\n",
    "$$\n",
    "s = \\sqrt{\\frac{1}{N} \\sum_{i=1}^N (x_i - \\overline{x})^2}\n",
    "$$\n"
   ]
  },
  {
   "cell_type": "markdown",
   "metadata": {},
   "source": [
    "## Analyze each column\n",
    "<hr>"
   ]
  },
  {
   "cell_type": "markdown",
   "metadata": {},
   "source": [
    "### Age\n",
    "Since Age is a numerical variable, we will be using the mean and standard deviation to describe this set"
   ]
  },
  {
   "cell_type": "code",
   "execution_count": 3,
   "metadata": {},
   "outputs": [
    {
     "name": "stdout",
     "output_type": "stream",
     "text": [
      "The minimum age is: 18\n",
      "The maximum age is: 64\n",
      "The average age is: 39.207\n",
      "The standard deviation of the ages is: 14.0447\n"
     ]
    }
   ],
   "source": [
    "print(f'The minimum age is: {min(ages)}')\n",
    "print(f'The maximum age is: {max(ages)}')\n",
    "print(f'The average age is: {get_mean(ages)}')\n",
    "print(f'The standard deviation of the ages is: {get_std_dev(ages)}')"
   ]
  },
  {
   "cell_type": "markdown",
   "metadata": {},
   "source": [
    "Although the Age is numerical, common usage of this information groups similar ages into categories, so perhaps it is more useful for future analysis to think of age as a categorical variable, and use ranges to group similar ages into one category"
   ]
  },
  {
   "cell_type": "code",
   "execution_count": 4,
   "metadata": {},
   "outputs": [],
   "source": [
    "ages_by_category = {\n",
    "    '18-25': 0,\n",
    "    '26-35': 0,\n",
    "    '36-45': 0,\n",
    "    '46-55': 0,\n",
    "    '56-65': 0\n",
    "}\n",
    "for age in ages:\n",
    "    if 18 <= age <= 25:\n",
    "        ages_by_category['18-25'] += 1\n",
    "    elif 26 <= age <= 35:\n",
    "        ages_by_category['26-35'] += 1\n",
    "    elif 36 <= age <= 45:\n",
    "        ages_by_category['36-45'] += 1\n",
    "    elif 46 <= age <= 55:\n",
    "        ages_by_category['46-55'] += 1\n",
    "    else:\n",
    "        ages_by_category['56-65'] += 1  "
   ]
  },
  {
   "cell_type": "markdown",
   "metadata": {},
   "source": [
    "This age ranges were selected to have aproximately the same span, which is hoped will result in an even distribution of the frequencies for each category. The following two tables will confirm is this distribution was achieved"
   ]
  },
  {
   "cell_type": "code",
   "execution_count": 5,
   "metadata": {},
   "outputs": [
    {
     "name": "stdout",
     "output_type": "stream",
     "text": [
      "      Age           Count     \n",
      "     18-25           306      \n",
      "     26-35           268      \n",
      "     36-45           264      \n",
      "     46-55           284      \n",
      "     56-65           216      \n"
     ]
    }
   ],
   "source": [
    "print_frequencies(ages_by_category, 'Age')"
   ]
  },
  {
   "cell_type": "code",
   "execution_count": 6,
   "metadata": {},
   "outputs": [
    {
     "name": "stdout",
     "output_type": "stream",
     "text": [
      "      Age        Percentage   \n",
      "     18-25         22.87%     \n",
      "     26-35         20.03%     \n",
      "     36-45         19.73%     \n",
      "     46-55         21.23%     \n",
      "     56-65         16.14%     \n"
     ]
    }
   ],
   "source": [
    "print_proportions(get_proportions(ages_by_category), 'Age')"
   ]
  },
  {
   "cell_type": "markdown",
   "metadata": {},
   "source": [
    "The distribution is somewhat even, most of the categories represent around 20% of the total data, except for the older segment of the population, which is smaller than the rest."
   ]
  },
  {
   "cell_type": "markdown",
   "metadata": {},
   "source": [
    "### Sex\n",
    "Since Sex is a categorical variable, we will tabulate the frequencies and percentages of each category to describe this variable"
   ]
  },
  {
   "cell_type": "code",
   "execution_count": 29,
   "metadata": {},
   "outputs": [
    {
     "name": "stdout",
     "output_type": "stream",
     "text": [
      "      Sex           Count     \n",
      "    female           662      \n",
      "     male            676      \n"
     ]
    }
   ],
   "source": [
    "print_frequencies(get_frequencies(sex_count), 'Sex')"
   ]
  },
  {
   "cell_type": "code",
   "execution_count": 8,
   "metadata": {},
   "outputs": [
    {
     "name": "stdout",
     "output_type": "stream",
     "text": [
      "      Sex        Percentage   \n",
      "    female         49.48%     \n",
      "     male          50.52%     \n"
     ]
    }
   ],
   "source": [
    "print_proportions(get_proportions(sex_count), 'Sex')"
   ]
  },
  {
   "cell_type": "markdown",
   "metadata": {},
   "source": [
    "There is no entries for non-binary people in this dataset, so the only categories in this variable are _male_ and _female_, which are almost evenly distributed, with each one being close to half of the samples"
   ]
  },
  {
   "cell_type": "markdown",
   "metadata": {},
   "source": [
    "### BMI\n",
    "As happened with Age, BMI is a numerical variable that is frequently grouped into categories, so the BMI will be transformed into the groups proposed by the [CDC](https://www.cdc.gov/obesity/basics/adult-defining.html)\n"
   ]
  },
  {
   "cell_type": "code",
   "execution_count": 9,
   "metadata": {},
   "outputs": [],
   "source": [
    "categorical_bmi = {\n",
    "    'underweight': 0,\n",
    "    'normal': 0,\n",
    "    'overweight': 0,\n",
    "    'obese': 0\n",
    "}\n",
    "for value in bmis:\n",
    "    if value < 18.5:\n",
    "        categorical_bmi['underweight'] += 1\n",
    "    elif 18.5 <= value <= 24.9:\n",
    "        categorical_bmi['normal'] += 1\n",
    "    elif 25 <= value <= 29.9:\n",
    "        categorical_bmi['overweight'] += 1\n",
    "    else:\n",
    "        categorical_bmi['obese'] += 1"
   ]
  },
  {
   "cell_type": "code",
   "execution_count": 10,
   "metadata": {},
   "outputs": [
    {
     "name": "stdout",
     "output_type": "stream",
     "text": [
      "      BMI           Count     \n",
      "  underweight        20       \n",
      "    normal           222      \n",
      "  overweight         377      \n",
      "     obese           719      \n"
     ]
    }
   ],
   "source": [
    "print_frequencies(categorical_bmi, 'BMI')"
   ]
  },
  {
   "cell_type": "code",
   "execution_count": 11,
   "metadata": {},
   "outputs": [
    {
     "name": "stdout",
     "output_type": "stream",
     "text": [
      "      BMI        Percentage   \n",
      "  underweight       1.49%     \n",
      "    normal         16.59%     \n",
      "  overweight       28.18%     \n",
      "     obese         53.74%     \n"
     ]
    }
   ],
   "source": [
    "print_proportions(get_proportions(categorical_bmi), 'BMI')"
   ]
  },
  {
   "cell_type": "markdown",
   "metadata": {},
   "source": [
    "### Children\n",
    "Refers to the number of children each person has"
   ]
  },
  {
   "cell_type": "code",
   "execution_count": 12,
   "metadata": {},
   "outputs": [
    {
     "name": "stdout",
     "output_type": "stream",
     "text": [
      "The minimum number of children is: 0\n",
      "The maximum number of children is: 5\n",
      "The average number of children is: 1.0949\n",
      "The standard deviation of the number of children is: 1.205\n"
     ]
    }
   ],
   "source": [
    "print(f'The minimum number of children is: {min(number_of_children)}')\n",
    "print(f'The maximum number of children is: {max(number_of_children)}')\n",
    "print(f'The average number of children is: {get_mean(number_of_children)}')\n",
    "print(f'The standard deviation of the number of children is: {get_std_dev(number_of_children)}')"
   ]
  },
  {
   "cell_type": "markdown",
   "metadata": {},
   "source": [
    "Since there are few different values for this variable and all are integers, we can treat this as a categorical variable, and print the corresponding frequency and proportions table"
   ]
  },
  {
   "cell_type": "code",
   "execution_count": 13,
   "metadata": {},
   "outputs": [
    {
     "name": "stdout",
     "output_type": "stream",
     "text": [
      "Number of children     Count     \n",
      "       0             574      \n",
      "       1             324      \n",
      "       3             157      \n",
      "       2             240      \n",
      "       5             18       \n",
      "       4             25       \n"
     ]
    }
   ],
   "source": [
    "print_frequencies(get_frequencies(number_of_children), 'Number of children')"
   ]
  },
  {
   "cell_type": "code",
   "execution_count": 14,
   "metadata": {},
   "outputs": [
    {
     "name": "stdout",
     "output_type": "stream",
     "text": [
      "Number of children  Percentage   \n",
      "       0            42.9%     \n",
      "       1           24.22%     \n",
      "       3           11.73%     \n",
      "       2           17.94%     \n",
      "       5            1.35%     \n",
      "       4            1.87%     \n"
     ]
    }
   ],
   "source": [
    "print_proportions(get_proportions(number_of_children), 'Number of children')"
   ]
  },
  {
   "cell_type": "markdown",
   "metadata": {},
   "source": [
    "Most of the people in this dataset have 1 or no children"
   ]
  },
  {
   "cell_type": "markdown",
   "metadata": {},
   "source": [
    "### Smoker\n",
    "Categorical variable that signals if a person smokes or not"
   ]
  },
  {
   "cell_type": "code",
   "execution_count": 15,
   "metadata": {},
   "outputs": [
    {
     "name": "stdout",
     "output_type": "stream",
     "text": [
      "    Smokers         Count     \n",
      "      yes            274      \n",
      "      no            1064      \n"
     ]
    }
   ],
   "source": [
    "print_frequencies(get_frequencies(smokers), 'Smokers')"
   ]
  },
  {
   "cell_type": "code",
   "execution_count": 16,
   "metadata": {},
   "outputs": [
    {
     "name": "stdout",
     "output_type": "stream",
     "text": [
      "    Smokers      Percentage   \n",
      "      yes          20.48%     \n",
      "      no           79.52%     \n"
     ]
    }
   ],
   "source": [
    "print_proportions(get_proportions(smokers), 'Smokers')"
   ]
  },
  {
   "cell_type": "markdown",
   "metadata": {},
   "source": [
    "The majority of the people in the dataset are non-smokers"
   ]
  },
  {
   "cell_type": "markdown",
   "metadata": {},
   "source": [
    "### Region\n",
    "The dataset divides the people in four regions, which together cover the whole U.S. territory"
   ]
  },
  {
   "cell_type": "code",
   "execution_count": 17,
   "metadata": {},
   "outputs": [
    {
     "name": "stdout",
     "output_type": "stream",
     "text": [
      "    Regions         Count     \n",
      "   southwest         325      \n",
      "   southeast         364      \n",
      "   northwest         325      \n",
      "   northeast         324      \n"
     ]
    }
   ],
   "source": [
    "print_frequencies(get_frequencies(regions), 'Regions')"
   ]
  },
  {
   "cell_type": "code",
   "execution_count": 18,
   "metadata": {},
   "outputs": [
    {
     "name": "stdout",
     "output_type": "stream",
     "text": [
      "    Regions      Percentage   \n",
      "   southwest       24.29%     \n",
      "   southeast        27.2%     \n",
      "   northwest       24.29%     \n",
      "   northeast       24.22%     \n"
     ]
    }
   ],
   "source": [
    "print_proportions(get_proportions(regions), 'Regions')"
   ]
  },
  {
   "cell_type": "markdown",
   "metadata": {},
   "source": [
    "There is an even distribution of the people sampled in each region"
   ]
  },
  {
   "cell_type": "markdown",
   "metadata": {},
   "source": [
    "### Charges\n",
    "This represents the cost of the insurance policy for each individual in the dataset"
   ]
  },
  {
   "cell_type": "code",
   "execution_count": 19,
   "metadata": {},
   "outputs": [
    {
     "name": "stdout",
     "output_type": "stream",
     "text": [
      "The minimum insurance cost is: 1121.8739\n",
      "The maximum insurance cost is: 63770.428\n",
      "The average insurance cost is: 13270.4223\n",
      "The standard deviation of the insurance costs is: 12105.485\n"
     ]
    }
   ],
   "source": [
    "print(f'The minimum insurance cost is: {min(charges)}')\n",
    "print(f'The maximum insurance cost is: {max(charges)}')\n",
    "print(f'The average insurance cost is: {get_mean(charges)}')\n",
    "print(f'The standard deviation of the insurance costs is: {get_std_dev(charges)}')"
   ]
  },
  {
   "cell_type": "markdown",
   "metadata": {},
   "source": [
    "This results point to a possible skew to the right, because there are points to the right more than 4 standard deviations to the right of the mean. Plotting the distribution confirms this:"
   ]
  },
  {
   "cell_type": "code",
   "execution_count": 20,
   "metadata": {},
   "outputs": [
    {
     "data": {
      "image/png": "[encoded data removed]",
      "text/plain": [
       "<Figure size 640x480 with 1 Axes>"
      ]
     },
     "metadata": {},
     "output_type": "display_data"
    }
   ],
   "source": [
    "import matplotlib.pyplot as plt\n",
    "%matplotlib inline\n",
    "plt.hist(charges, bins = 10)\n",
    "plt.show()"
   ]
  },
  {
   "cell_type": "markdown",
   "metadata": {},
   "source": [
    "For the highest insurance costs, is there a single factor that predicts that the insurance will be more expensive?\n",
    "First, the insurance costs are sorted from min to max"
   ]
  },
  {
   "cell_type": "code",
   "execution_count": 31,
   "metadata": {},
   "outputs": [],
   "source": [
    "sorted_charges = sorted(complete, key = lambda x: x['charges'])"
   ]
  },
  {
   "cell_type": "markdown",
   "metadata": {},
   "source": [
    "Then, the 10 more expensive insurance costs are presented:"
   ]
  },
  {
   "cell_type": "code",
   "execution_count": 36,
   "metadata": {},
   "outputs": [
    {
     "name": "stdout",
     "output_type": "stream",
     "text": [
      "{'age': 44, 'sex': 'female', 'bmi': 38.06, 'children': 0, 'smoker': 'yes', 'region': 'southeast', 'charges': 48885.1356}\n",
      "{'age': 59, 'sex': 'male', 'bmi': 41.14, 'children': 1, 'smoker': 'yes', 'region': 'southeast', 'charges': 48970.2476}\n",
      "{'age': 64, 'sex': 'male', 'bmi': 36.96, 'children': 2, 'smoker': 'yes', 'region': 'southeast', 'charges': 49577.6624}\n",
      "{'age': 28, 'sex': 'male', 'bmi': 36.4, 'children': 1, 'smoker': 'yes', 'region': 'southwest', 'charges': 51194.5591}\n",
      "{'age': 60, 'sex': 'male', 'bmi': 32.8, 'children': 0, 'smoker': 'yes', 'region': 'southwest', 'charges': 52590.8294}\n",
      "{'age': 33, 'sex': 'female', 'bmi': 35.53, 'children': 0, 'smoker': 'yes', 'region': 'northwest', 'charges': 55135.4021}\n",
      "{'age': 31, 'sex': 'female', 'bmi': 38.09, 'children': 1, 'smoker': 'yes', 'region': 'northeast', 'charges': 58571.0745}\n",
      "{'age': 52, 'sex': 'male', 'bmi': 34.48, 'children': 3, 'smoker': 'yes', 'region': 'northwest', 'charges': 60021.399}\n",
      "{'age': 45, 'sex': 'male', 'bmi': 30.36, 'children': 0, 'smoker': 'yes', 'region': 'southeast', 'charges': 62592.8731}\n",
      "{'age': 54, 'sex': 'female', 'bmi': 47.41, 'children': 0, 'smoker': 'yes', 'region': 'southeast', 'charges': 63770.428}\n"
     ]
    }
   ],
   "source": [
    "for record in sorted_charges[-10:]:\n",
    "    print(record)"
   ]
  },
  {
   "cell_type": "markdown",
   "metadata": {},
   "source": [
    "Smoker seems to be the single most important factor in determining a high insurance cost, since all of the most expensive insurance costs are from people that smoke, but further tests are needed to confirm this hypothesis"
   ]
  },
  {
   "cell_type": "markdown",
   "metadata": {},
   "source": [
    "## Conclusion\n",
    "<hr>"
   ]
  },
  {
   "cell_type": "markdown",
   "metadata": {},
   "source": [
    "As exemplified by the Smoker variable, these patient attributes can contribute to low and/or high medical insurance charges. Further analysis is needed to determine which single variable, or combination of variables is the most strongly correlated to the insurance costs."
   ]
  }
 ],
 "metadata": {
  "kernelspec": {
   "display_name": "Python 3 (ipykernel)",
   "language": "python",
   "name": "python3"
  },
  "language_info": {
   "codemirror_mode": {
    "name": "ipython",
    "version": 3
   },
   "file_extension": ".py",
   "mimetype": "text/x-python",
   "name": "python",
   "nbconvert_exporter": "python",
   "pygments_lexer": "ipython3",
   "version": "3.9.13"
  }
 },
 "nbformat": 4,
 "nbformat_minor": 4
}
