{
 "cells": [
  {
   "cell_type": "markdown",
   "metadata": {},
   "source": [
    "# Date-a-Scientist\n",
    "This is a Machine Learning project that encourages thinking and practical application of concepts reviewd during the Codecademy's Machine Learning specialization. In this project, we will analyze data from OKCupid, an app that focuses on using multiple choice and short answers to match users"
   ]
  },
  {
   "cell_type": "markdown",
   "metadata": {},
   "source": [
    "## Introduction\n",
    "The task was to utilize the given dataset to produce a Machine Learning model. This is an open-ended assignment, so I formulated the following `Objective`:"
   ]
  },
  {
   "cell_type": "markdown",
   "metadata": {},
   "source": [
    "<div class=\"alert alert-block alert-success\">\n",
    "Create a recommender system, using a KMeans clustering Unsipervised Learning Algorithm to group profiles by similarity, and output recommendations based on that closeness.\n",
    "</div>"
   ]
  },
  {
   "cell_type": "markdown",
   "metadata": {},
   "source": [
    "This project is divided into the following parts:\n",
    "\n",
    "1. Clean the data\n",
    "    - Drop unused columns\n",
    "    - Handle missing values in each of the columns\n",
    "    - Look for and correct errors in column inputs (misspelling, incoherent values, null values)\n",
    "2. Conduct Feature engineering\n",
    "    - Derive other columns from existing ones\n",
    "    - Transform categorical data into numbers using different encoders\n",
    "    - Conduct `PCA` in order to reduce dimensions, and improve algorithm performance\n",
    "3. Create and tune model\n",
    "    - Use the elbow model to tune the number of clusters for the KMeans algorithm\n",
    "    - Create new data points and make recommendations for these\n",
    "    - Select the final list of recommendations\n",
    "4. Write conclusions \n",
    "    - Reflect about the obtained results\n",
    "5. Reflect on further research\n",
    "    - Reflect on possible improvements and other uses for this project"
   ]
  },
  {
   "cell_type": "markdown",
   "metadata": {},
   "source": [
    "## Clean the data"
   ]
  },
  {
   "cell_type": "markdown",
   "metadata": {},
   "source": [
    "First, import the necessary libraries and tools, to then start by peeking into the dataset and the information it contains. We can see that there are some columns that contain text (named essay0, essay1, etc.) since the algorithm will not perform Natural Language Processing, I will drop these columns and investigate the rest."
   ]
  },
  {
   "cell_type": "code",
   "execution_count": 2,
   "metadata": {},
   "outputs": [],
   "source": [
    "import pandas as pd \n",
    "import matplotlib.pyplot as plt\n",
    "import numpy as np\n",
    "from sklearn.preprocessing import MinMaxScaler\n",
    "from sklearn.cluster import KMeans\n",
    "from sklearn.decomposition import PCA\n",
    "from category_encoders import BinaryEncoder\n",
    "import glob\n",
    "\n",
    "%matplotlib inline"
   ]
  },
  {
   "cell_type": "code",
   "execution_count": 7,
   "metadata": {},
   "outputs": [],
   "source": [
    "files = glob.glob('profile*.csv')\n",
    "df_list = []\n",
    "for f in files:\n",
    "    data = pd.read_csv(f)\n",
    "    df_list.append(data)\n",
    "df = pd.concat(df_list)"
   ]
  },
  {
   "cell_type": "code",
   "execution_count": 8,
   "metadata": {},
   "outputs": [],
   "source": [
    "df=df.reset_index(drop=True)"
   ]
  },
  {
   "cell_type": "code",
   "execution_count": 9,
   "metadata": {},
   "outputs": [
    {
     "data": {
      "text/plain": [
       "Index(['age', 'body_type', 'diet', 'drinks', 'drugs', 'education', 'essay0',\n",
       "       'essay1', 'essay2', 'essay3', 'essay4', 'essay5', 'essay6', 'essay7',\n",
       "       'essay8', 'essay9', 'ethnicity', 'height', 'income', 'job',\n",
       "       'last_online', 'location', 'offspring', 'orientation', 'pets',\n",
       "       'religion', 'sex', 'sign', 'smokes', 'speaks', 'status'],\n",
       "      dtype='object')"
      ]
     },
     "execution_count": 9,
     "metadata": {},
     "output_type": "execute_result"
    }
   ],
   "source": [
    "df.columns"
   ]
  },
  {
   "cell_type": "code",
   "execution_count": 10,
   "metadata": {},
   "outputs": [
    {
     "data": {
      "text/plain": [
       "Index(['age', 'body_type', 'diet', 'drinks', 'drugs', 'education', 'ethnicity',\n",
       "       'height', 'income', 'job', 'last_online', 'location', 'offspring',\n",
       "       'orientation', 'pets', 'religion', 'sex', 'sign', 'smokes', 'speaks',\n",
       "       'status'],\n",
       "      dtype='object')"
      ]
     },
     "execution_count": 10,
     "metadata": {},
     "output_type": "execute_result"
    }
   ],
   "source": [
    "features = df[ [col for col in df.columns if 'essay' not in col] ]\n",
    "features.columns"
   ]
  },
  {
   "cell_type": "markdown",
   "metadata": {},
   "source": [
    "In this stage of the project, I will deal with the missing values in every column, I will also look at each column individually to understand if the values need further processing, such as tranformations or rearrangement, wich will be done as part of the feature engineering step of this project. These are the actions that I will perform in this cleaning step:\n",
    "\n",
    "- Columns with complete entries: These columns do not have missing values, but I will look at them in future steps to see if they have mistakes like incorrect values. The columns in this group are: <br> `age`, `income`, `last_online`, `location`, `orientation`, `sex` and `status`.\n",
    "- Columns with missing information: The `offspring` column is missing almost 60% of all entries, it will be dropped due to lack of information.\n",
    "- Columns with little missing values: `speaks` and `height` are missing a small number of entries, so the rows with the missing data will be dropped\n",
    "- Columns to analyze individually: These columns will be analyzed one by one, to determine the best course of action for each one. The columns in this group are: <br> `body_type`, `diet`, `drinks`, `drugs`, `education`, `ethnicity`, `job`, `pets`, `religion`, `sign` and `smokes`."
   ]
  },
  {
   "cell_type": "code",
   "execution_count": 11,
   "metadata": {},
   "outputs": [
    {
     "name": "stdout",
     "output_type": "stream",
     "text": [
      "<class 'pandas.core.frame.DataFrame'>\n",
      "RangeIndex: 119892 entries, 0 to 119891\n",
      "Data columns (total 21 columns):\n",
      " #   Column       Non-Null Count   Dtype  \n",
      "---  ------       --------------   -----  \n",
      " 0   age          119892 non-null  int64  \n",
      " 1   body_type    109300 non-null  object \n",
      " 2   diet         71102 non-null   object \n",
      " 3   drinks       113922 non-null  object \n",
      " 4   drugs        91732 non-null   object \n",
      " 5   education    106636 non-null  object \n",
      " 6   ethnicity    108532 non-null  object \n",
      " 7   height       119886 non-null  float64\n",
      " 8   income       119892 non-null  int64  \n",
      " 9   job          103496 non-null  object \n",
      " 10  last_online  119892 non-null  object \n",
      " 11  location     119892 non-null  object \n",
      " 12  offspring    48770 non-null   object \n",
      " 13  orientation  119892 non-null  object \n",
      " 14  pets         80050 non-null   object \n",
      " 15  religion     79440 non-null   object \n",
      " 16  sex          119892 non-null  object \n",
      " 17  sign         97780 non-null   object \n",
      " 18  smokes       108868 non-null  object \n",
      " 19  speaks       119792 non-null  object \n",
      " 20  status       119892 non-null  object \n",
      "dtypes: float64(1), int64(2), object(18)\n",
      "memory usage: 19.2+ MB\n"
     ]
    }
   ],
   "source": [
    "features.info()"
   ]
  },
  {
   "cell_type": "code",
   "execution_count": 12,
   "metadata": {},
   "outputs": [
    {
     "name": "stdout",
     "output_type": "stream",
     "text": [
      "age\n",
      "Missing values: 0\n",
      "Percentage missing values:  0.00% \n",
      "\n",
      "body_type\n",
      "Missing values: 10592\n",
      "Percentage missing values:  8.83% \n",
      "\n",
      "diet\n",
      "Missing values: 48790\n",
      "Percentage missing values:  40.69% \n",
      "\n",
      "drinks\n",
      "Missing values: 5970\n",
      "Percentage missing values:  4.98% \n",
      "\n",
      "drugs\n",
      "Missing values: 28160\n",
      "Percentage missing values:  23.49% \n",
      "\n",
      "education\n",
      "Missing values: 13256\n",
      "Percentage missing values:  11.06% \n",
      "\n",
      "ethnicity\n",
      "Missing values: 11360\n",
      "Percentage missing values:  9.48% \n",
      "\n",
      "height\n",
      "Missing values: 6\n",
      "Percentage missing values:  0.01% \n",
      "\n",
      "income\n",
      "Missing values: 0\n",
      "Percentage missing values:  0.00% \n",
      "\n",
      "job\n",
      "Missing values: 16396\n",
      "Percentage missing values:  13.68% \n",
      "\n",
      "last_online\n",
      "Missing values: 0\n",
      "Percentage missing values:  0.00% \n",
      "\n",
      "location\n",
      "Missing values: 0\n",
      "Percentage missing values:  0.00% \n",
      "\n",
      "offspring\n",
      "Missing values: 71122\n",
      "Percentage missing values:  59.32% \n",
      "\n",
      "orientation\n",
      "Missing values: 0\n",
      "Percentage missing values:  0.00% \n",
      "\n",
      "pets\n",
      "Missing values: 39842\n",
      "Percentage missing values:  33.23% \n",
      "\n",
      "religion\n",
      "Missing values: 40452\n",
      "Percentage missing values:  33.74% \n",
      "\n",
      "sex\n",
      "Missing values: 0\n",
      "Percentage missing values:  0.00% \n",
      "\n",
      "sign\n",
      "Missing values: 22112\n",
      "Percentage missing values:  18.44% \n",
      "\n",
      "smokes\n",
      "Missing values: 11024\n",
      "Percentage missing values:  9.19% \n",
      "\n",
      "speaks\n",
      "Missing values: 100\n",
      "Percentage missing values:  0.08% \n",
      "\n",
      "status\n",
      "Missing values: 0\n",
      "Percentage missing values:  0.00% \n",
      "\n"
     ]
    }
   ],
   "source": [
    "for column in features.columns:\n",
    "    print(column)\n",
    "    missing_values = features[column].isna().sum()\n",
    "    print(f'Missing values: {missing_values}')\n",
    "    print(f'Percentage missing values: {missing_values / len(features[column]) : .2%}', '\\n')"
   ]
  },
  {
   "cell_type": "code",
   "execution_count": 13,
   "metadata": {},
   "outputs": [],
   "source": [
    "features = features.drop('offspring', axis=1)"
   ]
  },
  {
   "cell_type": "code",
   "execution_count": 14,
   "metadata": {},
   "outputs": [],
   "source": [
    "features = features.dropna(subset=['speaks','height'])"
   ]
  },
  {
   "cell_type": "markdown",
   "metadata": {},
   "source": [
    "### Body type"
   ]
  },
  {
   "cell_type": "markdown",
   "metadata": {},
   "source": [
    "This values are categorical, and can be filled with the most common category. There are also a lot of different categories, so I will group them to reduce dimensionality, and in further steps, these will be encoded using ono-hot encoding."
   ]
  },
  {
   "cell_type": "markdown",
   "metadata": {},
   "source": [
    "| New category | Old categories | \n",
    "| --- | --- |\n",
    "| thin | this, skinny, used up |\n",
    "| average | average |\n",
    "| fit | fit, athletic, jacked |\n",
    "| curvy | curvy, a little extra, full figured, overweight |\n",
    "| rather not say | rather not say |"
   ]
  },
  {
   "cell_type": "code",
   "execution_count": 15,
   "metadata": {},
   "outputs": [
    {
     "data": {
      "text/plain": [
       "average           29286\n",
       "fit               25408\n",
       "athletic          23618\n",
       "thin               9412\n",
       "curvy              7846\n",
       "a little extra     5252\n",
       "skinny             3548\n",
       "full figured       2016\n",
       "overweight          886\n",
       "jacked              842\n",
       "used up             710\n",
       "rather not say      388\n",
       "Name: body_type, dtype: int64"
      ]
     },
     "execution_count": 15,
     "metadata": {},
     "output_type": "execute_result"
    }
   ],
   "source": [
    "features['body_type'].value_counts()"
   ]
  },
  {
   "cell_type": "code",
   "execution_count": 16,
   "metadata": {},
   "outputs": [],
   "source": [
    "#Fill missing values with mode\n",
    "features['body_type'] = features['body_type'].fillna('average')\n",
    "#Reorder categories\n",
    "def reorder_body_type(x):\n",
    "    if x in ('thin', 'skinny', 'used up'):\n",
    "        return 'thin'\n",
    "    elif x in ('average', 'rather not say'):\n",
    "        return x\n",
    "    elif x in ('fit', 'athletic', 'jacked'):\n",
    "        return 'fit'\n",
    "    else:\n",
    "        return 'curvy'\n",
    "features['body_type'] = features['body_type'].apply(reorder_body_type)"
   ]
  },
  {
   "cell_type": "markdown",
   "metadata": {},
   "source": [
    "### Diet"
   ]
  },
  {
   "cell_type": "markdown",
   "metadata": {},
   "source": [
    "Fill missing values with 'anything', assuming that if this was important (or respondent had special needs), people would have filled with appropriate value. There are a lot of categories, in order to reduce complexity, I am going to create new categories from the old values as follows:"
   ]
  },
  {
   "cell_type": "markdown",
   "metadata": {},
   "source": [
    "| New category | Old categories | \n",
    "| --- | --- |\n",
    "| anything | 'mostly anything', 'anything', 'strictly anything' |\n",
    "| vegetarian | 'mostly vegetarian', 'strictly vegetarian', 'vegetarian' |\n",
    "| vegan | 'mostly vegan', 'strictly vegan', 'vegan' |\n",
    "| special | 'mostly kosher', 'mostly halal', 'strictly halal', 'strictly kosher', 'halal', 'kosher' |\n",
    "| other | 'mostly other', 'strictly other', 'other' |"
   ]
  },
  {
   "cell_type": "code",
   "execution_count": 17,
   "metadata": {},
   "outputs": [
    {
     "data": {
      "text/plain": [
       "mostly anything        33154\n",
       "anything               12358\n",
       "strictly anything      10220\n",
       "mostly vegetarian       6880\n",
       "mostly other            2014\n",
       "strictly vegetarian     1750\n",
       "vegetarian              1332\n",
       "strictly other           902\n",
       "mostly vegan             676\n",
       "other                    662\n",
       "strictly vegan           456\n",
       "vegan                    272\n",
       "mostly kosher            172\n",
       "mostly halal              96\n",
       "strictly halal            36\n",
       "strictly kosher           36\n",
       "halal                     22\n",
       "kosher                    22\n",
       "Name: diet, dtype: int64"
      ]
     },
     "execution_count": 17,
     "metadata": {},
     "output_type": "execute_result"
    }
   ],
   "source": [
    "features['diet'].value_counts()"
   ]
  },
  {
   "cell_type": "code",
   "execution_count": 18,
   "metadata": {},
   "outputs": [],
   "source": [
    "features['diet'] = features['diet'].fillna('anything')"
   ]
  },
  {
   "cell_type": "code",
   "execution_count": 19,
   "metadata": {},
   "outputs": [],
   "source": [
    "def new_diet_categories(diet):\n",
    "    if diet in ['mostly anything', 'anything', 'strictly anything']:\n",
    "        return 'anything'\n",
    "    elif diet in ['mostly vegetarian', 'strictly vegetarian', 'vegetarian']:\n",
    "        return 'vegetarian'\n",
    "    elif diet in ['mostly vegan', 'strictly vegan', 'vegan']:\n",
    "        return 'vegan'\n",
    "    elif diet in ['mostly kosher', 'mostly halal', 'strictly halal', 'strictly kosher', 'halal', 'kosher']:\n",
    "        return 'special'\n",
    "    else:\n",
    "        return 'other'\n",
    "features['diet'] = features['diet'].apply(new_diet_categories)"
   ]
  },
  {
   "cell_type": "markdown",
   "metadata": {},
   "source": [
    "### Drinks"
   ]
  },
  {
   "cell_type": "markdown",
   "metadata": {},
   "source": [
    "Replace missing values with the mode"
   ]
  },
  {
   "cell_type": "code",
   "execution_count": 20,
   "metadata": {},
   "outputs": [
    {
     "data": {
      "text/plain": [
       "socially       83500\n",
       "rarely         11908\n",
       "often          10322\n",
       "not at all      6532\n",
       "very often       940\n",
       "desperately      644\n",
       "Name: drinks, dtype: int64"
      ]
     },
     "execution_count": 20,
     "metadata": {},
     "output_type": "execute_result"
    }
   ],
   "source": [
    "features.drinks.value_counts()"
   ]
  },
  {
   "cell_type": "code",
   "execution_count": 21,
   "metadata": {},
   "outputs": [],
   "source": [
    "features['drinks'] = features['drinks'].fillna('socially')"
   ]
  },
  {
   "cell_type": "markdown",
   "metadata": {},
   "source": [
    "### Drugs"
   ]
  },
  {
   "cell_type": "markdown",
   "metadata": {},
   "source": [
    "Replace missing values with the mode"
   ]
  },
  {
   "cell_type": "code",
   "execution_count": 22,
   "metadata": {},
   "outputs": [
    {
     "data": {
      "text/plain": [
       "never        75400\n",
       "sometimes    15460\n",
       "often          820\n",
       "Name: drugs, dtype: int64"
      ]
     },
     "execution_count": 22,
     "metadata": {},
     "output_type": "execute_result"
    }
   ],
   "source": [
    "features.drugs.value_counts()"
   ]
  },
  {
   "cell_type": "code",
   "execution_count": 23,
   "metadata": {},
   "outputs": [],
   "source": [
    "features['drugs'] = features['drugs'].fillna('never')"
   ]
  },
  {
   "cell_type": "markdown",
   "metadata": {},
   "source": [
    "### Education"
   ]
  },
  {
   "cell_type": "markdown",
   "metadata": {},
   "source": [
    "Replace missing values with the mode. This column has a lot of categories, and I can't think of some logical groupping for all the different categories. Therefore, I will use Binary Encoding for this column, which will keep all the categories and transform them into a binary representation (encoding will be done in another step)."
   ]
  },
  {
   "cell_type": "code",
   "execution_count": 24,
   "metadata": {},
   "outputs": [
    {
     "data": {
      "text/plain": [
       "graduated from college/university    47876\n",
       "graduated from masters program       17900\n",
       "working on college/university        11424\n",
       "working on masters program            3364\n",
       "graduated from two-year college       3062\n",
       "graduated from high school            2856\n",
       "graduated from ph.d program           2540\n",
       "graduated from law school             2244\n",
       "working on two-year college           2146\n",
       "dropped out of college/university     1990\n",
       "working on ph.d program               1966\n",
       "college/university                    1602\n",
       "graduated from space camp             1314\n",
       "dropped out of space camp             1046\n",
       "graduated from med school              892\n",
       "working on space camp                  890\n",
       "working on law school                  538\n",
       "two-year college                       444\n",
       "working on med school                  422\n",
       "dropped out of two-year college        382\n",
       "dropped out of masters program         280\n",
       "masters program                        272\n",
       "dropped out of ph.d program            254\n",
       "dropped out of high school             204\n",
       "high school                            192\n",
       "working on high school                 174\n",
       "space camp                             116\n",
       "ph.d program                            52\n",
       "law school                              38\n",
       "dropped out of law school               36\n",
       "dropped out of med school               24\n",
       "med school                              22\n",
       "Name: education, dtype: int64"
      ]
     },
     "execution_count": 24,
     "metadata": {},
     "output_type": "execute_result"
    }
   ],
   "source": [
    "features.education.value_counts()"
   ]
  },
  {
   "cell_type": "code",
   "execution_count": 25,
   "metadata": {},
   "outputs": [],
   "source": [
    "features.education = features.education.fillna('graduated from college/university')"
   ]
  },
  {
   "cell_type": "markdown",
   "metadata": {},
   "source": [
    "### Ethnicity"
   ]
  },
  {
   "cell_type": "markdown",
   "metadata": {},
   "source": [
    "This column also had a lot of categories, which I grouped into fewer classes, but in doing so I changed the relative frequencies of the original types, putting `other` in second place while it was the fifth most common category before the transformation"
   ]
  },
  {
   "cell_type": "code",
   "execution_count": 26,
   "metadata": {},
   "outputs": [
    {
     "data": {
      "text/plain": [
       "white                                                                 65598\n",
       "asian                                                                 12266\n",
       "hispanic / latin                                                       5642\n",
       "black                                                                  4012\n",
       "other                                                                  3404\n",
       "                                                                      ...  \n",
       "middle eastern, indian, white                                             2\n",
       "asian, middle eastern, black, white, other                                2\n",
       "asian, middle eastern, indian, hispanic / latin, white, other             2\n",
       "black, native american, indian, pacific islander, hispanic / latin        2\n",
       "asian, black, indian                                                      2\n",
       "Name: ethnicity, Length: 217, dtype: int64"
      ]
     },
     "execution_count": 26,
     "metadata": {},
     "output_type": "execute_result"
    }
   ],
   "source": [
    "features.ethnicity.value_counts()"
   ]
  },
  {
   "cell_type": "code",
   "execution_count": 27,
   "metadata": {},
   "outputs": [
    {
     "data": {
      "text/plain": [
       "white               65598\n",
       "other               32268\n",
       "asian               12266\n",
       "hispanic / latin     5642\n",
       "black                4012\n",
       "Name: ethnicity, dtype: int64"
      ]
     },
     "execution_count": 27,
     "metadata": {},
     "output_type": "execute_result"
    }
   ],
   "source": [
    "ethnic_groups = ['white','asian','hispanic / latin','black','other']\n",
    "features.ethnicity = features.ethnicity.apply(lambda x: x if x in ethnic_groups else 'other')\n",
    "features.ethnicity.value_counts()"
   ]
  },
  {
   "cell_type": "markdown",
   "metadata": {},
   "source": [
    "### Job"
   ]
  },
  {
   "cell_type": "markdown",
   "metadata": {},
   "source": [
    "This column will also be filled with the mode. Since the number of categories is high, I don't find any obvious groupings, and it doesn't make sense to encode them into ordinal numbers, I will use another type of encoder called binary encoder for this column (this will be done in the feature engineering step)"
   ]
  },
  {
   "cell_type": "code",
   "execution_count": 28,
   "metadata": {},
   "outputs": [
    {
     "data": {
      "text/plain": [
       "other                                15174\n",
       "student                               9760\n",
       "science / tech / engineering          9688\n",
       "computer / hardware / software        9414\n",
       "artistic / musical / writer           8872\n",
       "sales / marketing / biz dev           8770\n",
       "medicine / health                     7350\n",
       "education / academia                  7022\n",
       "executive / management                4736\n",
       "banking / financial / real estate     4528\n",
       "entertainment / media                 4500\n",
       "law / legal services                  2762\n",
       "hospitality / travel                  2726\n",
       "construction / craftsmanship          2042\n",
       "clerical / administrative             1610\n",
       "political / government                1414\n",
       "rather not say                         872\n",
       "transportation                         732\n",
       "unemployed                             546\n",
       "retired                                500\n",
       "military                               408\n",
       "Name: job, dtype: int64"
      ]
     },
     "execution_count": 28,
     "metadata": {},
     "output_type": "execute_result"
    }
   ],
   "source": [
    "features.job.value_counts()"
   ]
  },
  {
   "cell_type": "code",
   "execution_count": 29,
   "metadata": {},
   "outputs": [],
   "source": [
    "features.job = features.job.fillna('other')"
   ]
  },
  {
   "cell_type": "markdown",
   "metadata": {},
   "source": [
    "### Pets"
   ]
  },
  {
   "cell_type": "markdown",
   "metadata": {},
   "source": [
    "`pets` was also filled with the mode. In this case, I will derive 3 new columns to capture the information contained in the original `pets`. This will not require further encoding."
   ]
  },
  {
   "cell_type": "code",
   "execution_count": 30,
   "metadata": {},
   "outputs": [
    {
     "data": {
      "text/plain": [
       "likes dogs and likes cats          29612\n",
       "likes dogs                         14440\n",
       "likes dogs and has cats             8622\n",
       "has dogs                            8266\n",
       "has dogs and likes cats             4662\n",
       "likes dogs and dislikes cats        4058\n",
       "has dogs and has cats               2948\n",
       "has cats                            2806\n",
       "likes cats                          2122\n",
       "has dogs and dislikes cats          1104\n",
       "dislikes dogs and likes cats         480\n",
       "dislikes dogs and dislikes cats      392\n",
       "dislikes cats                        244\n",
       "dislikes dogs and has cats           162\n",
       "dislikes dogs                         88\n",
       "Name: pets, dtype: int64"
      ]
     },
     "execution_count": 30,
     "metadata": {},
     "output_type": "execute_result"
    }
   ],
   "source": [
    "features.pets.value_counts()"
   ]
  },
  {
   "cell_type": "code",
   "execution_count": 31,
   "metadata": {},
   "outputs": [],
   "source": [
    "features.pets = features.pets.fillna('likes dogs and likes cats')\n",
    "#pets_likes_dogs\n",
    "features['pets_likes_dogs'] = features['pets'].apply(lambda x: 1 if 'likes dogs' in x else 0)\n",
    "#pets_likes_cats\n",
    "features['pets_likes_cats'] = features['pets'].apply(lambda x: 1 if 'likes cats' in x else 0)\n",
    "#has_pets\n",
    "features['has_pets'] = features['pets'].apply(lambda x: 1 if 'has' in x else 0)\n",
    "features = features.drop('pets', axis=1)"
   ]
  },
  {
   "cell_type": "markdown",
   "metadata": {},
   "source": [
    "### Religion"
   ]
  },
  {
   "cell_type": "markdown",
   "metadata": {},
   "source": [
    "There are 20226 missing values in `religion`, and the categories are all evenly distributed, so if the column is filled with the mode, the original values in the column will be heavily distorted.\n",
    "After some consideration, I decided to drop the column because null values cannot be filled without skewing too much the distribution of the values, and dropping null values would drop many rows."
   ]
  },
  {
   "cell_type": "code",
   "execution_count": 32,
   "metadata": {},
   "outputs": [
    {
     "data": {
      "text/plain": [
       "40426"
      ]
     },
     "execution_count": 32,
     "metadata": {},
     "output_type": "execute_result"
    }
   ],
   "source": [
    "features.religion.isna().sum()"
   ]
  },
  {
   "cell_type": "code",
   "execution_count": 33,
   "metadata": {},
   "outputs": [
    {
     "data": {
      "text/plain": [
       "agnosticism                                   5432\n",
       "other                                         5360\n",
       "agnosticism but not too serious about it      5268\n",
       "agnosticism and laughing about it             4990\n",
       "catholicism but not too serious about it      4634\n",
       "atheism                                       4346\n",
       "other and laughing about it                   4236\n",
       "atheism and laughing about it                 4148\n",
       "christianity                                  3906\n",
       "christianity but not too serious about it     3902\n",
       "other but not too serious about it            3106\n",
       "judaism but not too serious about it          3034\n",
       "atheism but not too serious about it          2636\n",
       "catholicism                                   2122\n",
       "christianity and somewhat serious about it    1854\n",
       "atheism and somewhat serious about it         1696\n",
       "other and somewhat serious about it           1692\n",
       "catholicism and laughing about it             1452\n",
       "judaism and laughing about it                 1360\n",
       "buddhism but not too serious about it         1300\n",
       "agnosticism and somewhat serious about it     1282\n",
       "judaism                                       1222\n",
       "christianity and very serious about it        1156\n",
       "atheism and very serious about it             1140\n",
       "catholicism and somewhat serious about it     1096\n",
       "other and very serious about it               1066\n",
       "buddhism and laughing about it                 932\n",
       "buddhism                                       806\n",
       "christianity and laughing about it             746\n",
       "buddhism and somewhat serious about it         718\n",
       "agnosticism and very serious about it          628\n",
       "judaism and somewhat serious about it          532\n",
       "hinduism but not too serious about it          454\n",
       "hinduism                                       212\n",
       "catholicism and very serious about it          202\n",
       "buddhism and very serious about it             140\n",
       "hinduism and somewhat serious about it         116\n",
       "islam                                           96\n",
       "hinduism and laughing about it                  88\n",
       "islam but not too serious about it              80\n",
       "judaism and very serious about it               44\n",
       "islam and somewhat serious about it             44\n",
       "islam and laughing about it                     32\n",
       "hinduism and very serious about it              28\n",
       "islam and very serious about it                 26\n",
       "Name: religion, dtype: int64"
      ]
     },
     "execution_count": 33,
     "metadata": {},
     "output_type": "execute_result"
    }
   ],
   "source": [
    "features.religion.value_counts()"
   ]
  },
  {
   "cell_type": "code",
   "execution_count": 34,
   "metadata": {},
   "outputs": [],
   "source": [
    "features = features.drop('religion', axis=1)"
   ]
  },
  {
   "cell_type": "markdown",
   "metadata": {},
   "source": [
    "### Sign"
   ]
  },
  {
   "cell_type": "markdown",
   "metadata": {},
   "source": [
    "There are a lot of different categories in this column, I could use another binary encoding but I will try to instead derive part of the information contained in this column, by creating another column that only states the importance of zodiac signs to the responder"
   ]
  },
  {
   "cell_type": "code",
   "execution_count": 35,
   "metadata": {},
   "outputs": [
    {
     "data": {
      "text/plain": [
       "gemini and it&rsquo;s fun to think about         3562\n",
       "scorpio and it&rsquo;s fun to think about        3540\n",
       "leo and it&rsquo;s fun to think about            3380\n",
       "libra and it&rsquo;s fun to think about          3296\n",
       "taurus and it&rsquo;s fun to think about         3276\n",
       "cancer and it&rsquo;s fun to think about         3194\n",
       "pisces and it&rsquo;s fun to think about         3184\n",
       "sagittarius and it&rsquo;s fun to think about    3162\n",
       "aries and it&rsquo;s fun to think about          3146\n",
       "virgo and it&rsquo;s fun to think about          3146\n",
       "aquarius and it&rsquo;s fun to think about       3006\n",
       "virgo but it doesn&rsquo;t matter                2994\n",
       "leo but it doesn&rsquo;t matter                  2912\n",
       "cancer but it doesn&rsquo;t matter               2906\n",
       "gemini but it doesn&rsquo;t matter               2906\n",
       "taurus but it doesn&rsquo;t matter               2900\n",
       "libra but it doesn&rsquo;t matter                2816\n",
       "aquarius but it doesn&rsquo;t matter             2814\n",
       "sagittarius but it doesn&rsquo;t matter          2750\n",
       "capricorn and it&rsquo;s fun to think about      2750\n",
       "aries but it doesn&rsquo;t matter                2744\n",
       "capricorn but it doesn&rsquo;t matter            2638\n",
       "pisces but it doesn&rsquo;t matter               2598\n",
       "scorpio but it doesn&rsquo;t matter              2526\n",
       "leo                                              2316\n",
       "libra                                            2192\n",
       "cancer                                           2184\n",
       "virgo                                            2056\n",
       "scorpio                                          2038\n",
       "gemini                                           2026\n",
       "taurus                                           2002\n",
       "aries                                            1990\n",
       "pisces                                           1978\n",
       "aquarius                                         1906\n",
       "sagittarius                                      1870\n",
       "capricorn                                        1666\n",
       "scorpio and it matters a lot                      156\n",
       "leo and it matters a lot                          132\n",
       "cancer and it matters a lot                       126\n",
       "aquarius and it matters a lot                     126\n",
       "pisces and it matters a lot                       124\n",
       "gemini and it matters a lot                       124\n",
       "libra and it matters a lot                        104\n",
       "taurus and it matters a lot                        96\n",
       "aries and it matters a lot                         94\n",
       "sagittarius and it matters a lot                   94\n",
       "capricorn and it matters a lot                     90\n",
       "virgo and it matters a lot                         82\n",
       "Name: sign, dtype: int64"
      ]
     },
     "execution_count": 35,
     "metadata": {},
     "output_type": "execute_result"
    }
   ],
   "source": [
    "features.sign.value_counts()"
   ]
  },
  {
   "cell_type": "code",
   "execution_count": 36,
   "metadata": {},
   "outputs": [],
   "source": [
    "features.sign = features.sign.fillna(0)"
   ]
  },
  {
   "cell_type": "code",
   "execution_count": 37,
   "metadata": {},
   "outputs": [],
   "source": [
    "def zodiac_matters(x):\n",
    "    if x == 0:\n",
    "        return 0\n",
    "    lst = x.split()\n",
    "    if len(lst) == 1 or 'matters a lot' in x:\n",
    "        return 1\n",
    "    return 0\n",
    "features.sign = features.sign.apply(zodiac_matters)"
   ]
  },
  {
   "cell_type": "markdown",
   "metadata": {},
   "source": [
    "### Smokes"
   ]
  },
  {
   "cell_type": "markdown",
   "metadata": {},
   "source": [
    "Just fill with the mode"
   ]
  },
  {
   "cell_type": "code",
   "execution_count": 38,
   "metadata": {},
   "outputs": [
    {
     "data": {
      "text/plain": [
       "no                87712\n",
       "sometimes          7570\n",
       "when drinking      6080\n",
       "yes                4456\n",
       "trying to quit     2954\n",
       "Name: smokes, dtype: int64"
      ]
     },
     "execution_count": 38,
     "metadata": {},
     "output_type": "execute_result"
    }
   ],
   "source": [
    "features.smokes.value_counts()"
   ]
  },
  {
   "cell_type": "code",
   "execution_count": 39,
   "metadata": {},
   "outputs": [],
   "source": [
    "features.smokes = features.smokes.fillna('no')"
   ]
  },
  {
   "cell_type": "markdown",
   "metadata": {},
   "source": [
    "### Age\n",
    "This starts the analysis of the columns that were complete, as above, I will go through every column to see if there are things that need to be changed. \n",
    "In particular, for the age column we see there are a couple entries where the answer is above 100, we will drop these assuming they were mistakes."
   ]
  },
  {
   "cell_type": "code",
   "execution_count": 40,
   "metadata": {},
   "outputs": [
    {
     "data": {
      "text/plain": [
       "count    119786.000000\n",
       "mean         32.336083\n",
       "std           9.452712\n",
       "min          18.000000\n",
       "25%          26.000000\n",
       "50%          30.000000\n",
       "75%          37.000000\n",
       "max         110.000000\n",
       "Name: age, dtype: float64"
      ]
     },
     "execution_count": 40,
     "metadata": {},
     "output_type": "execute_result"
    }
   ],
   "source": [
    "features.age.describe()"
   ]
  },
  {
   "cell_type": "code",
   "execution_count": 41,
   "metadata": {},
   "outputs": [
    {
     "data": {
      "text/html": [
       "<div>\n",
       "<style scoped>\n",
       "    .dataframe tbody tr th:only-of-type {\n",
       "        vertical-align: middle;\n",
       "    }\n",
       "\n",
       "    .dataframe tbody tr th {\n",
       "        vertical-align: top;\n",
       "    }\n",
       "\n",
       "    .dataframe thead th {\n",
       "        text-align: right;\n",
       "    }\n",
       "</style>\n",
       "<table border=\"1\" class=\"dataframe\">\n",
       "  <thead>\n",
       "    <tr style=\"text-align: right;\">\n",
       "      <th></th>\n",
       "      <th>age</th>\n",
       "      <th>body_type</th>\n",
       "      <th>diet</th>\n",
       "      <th>drinks</th>\n",
       "      <th>drugs</th>\n",
       "      <th>education</th>\n",
       "      <th>ethnicity</th>\n",
       "      <th>height</th>\n",
       "      <th>income</th>\n",
       "      <th>job</th>\n",
       "      <th>...</th>\n",
       "      <th>location</th>\n",
       "      <th>orientation</th>\n",
       "      <th>sex</th>\n",
       "      <th>sign</th>\n",
       "      <th>smokes</th>\n",
       "      <th>speaks</th>\n",
       "      <th>status</th>\n",
       "      <th>pets_likes_dogs</th>\n",
       "      <th>pets_likes_cats</th>\n",
       "      <th>has_pets</th>\n",
       "    </tr>\n",
       "  </thead>\n",
       "  <tbody>\n",
       "    <tr>\n",
       "      <th>2512</th>\n",
       "      <td>110</td>\n",
       "      <td>average</td>\n",
       "      <td>anything</td>\n",
       "      <td>socially</td>\n",
       "      <td>never</td>\n",
       "      <td>graduated from college/university</td>\n",
       "      <td>other</td>\n",
       "      <td>67.0</td>\n",
       "      <td>-1</td>\n",
       "      <td>other</td>\n",
       "      <td>...</td>\n",
       "      <td>daly city, california</td>\n",
       "      <td>straight</td>\n",
       "      <td>f</td>\n",
       "      <td>0</td>\n",
       "      <td>no</td>\n",
       "      <td>english</td>\n",
       "      <td>single</td>\n",
       "      <td>1</td>\n",
       "      <td>1</td>\n",
       "      <td>0</td>\n",
       "    </tr>\n",
       "    <tr>\n",
       "      <th>25324</th>\n",
       "      <td>109</td>\n",
       "      <td>fit</td>\n",
       "      <td>other</td>\n",
       "      <td>socially</td>\n",
       "      <td>never</td>\n",
       "      <td>working on masters program</td>\n",
       "      <td>other</td>\n",
       "      <td>95.0</td>\n",
       "      <td>-1</td>\n",
       "      <td>student</td>\n",
       "      <td>...</td>\n",
       "      <td>san francisco, california</td>\n",
       "      <td>straight</td>\n",
       "      <td>m</td>\n",
       "      <td>0</td>\n",
       "      <td>when drinking</td>\n",
       "      <td>english (okay)</td>\n",
       "      <td>available</td>\n",
       "      <td>1</td>\n",
       "      <td>1</td>\n",
       "      <td>0</td>\n",
       "    </tr>\n",
       "    <tr>\n",
       "      <th>42512</th>\n",
       "      <td>110</td>\n",
       "      <td>average</td>\n",
       "      <td>anything</td>\n",
       "      <td>socially</td>\n",
       "      <td>never</td>\n",
       "      <td>graduated from college/university</td>\n",
       "      <td>other</td>\n",
       "      <td>67.0</td>\n",
       "      <td>-1</td>\n",
       "      <td>other</td>\n",
       "      <td>...</td>\n",
       "      <td>daly city, california</td>\n",
       "      <td>straight</td>\n",
       "      <td>f</td>\n",
       "      <td>0</td>\n",
       "      <td>no</td>\n",
       "      <td>english</td>\n",
       "      <td>single</td>\n",
       "      <td>1</td>\n",
       "      <td>1</td>\n",
       "      <td>0</td>\n",
       "    </tr>\n",
       "    <tr>\n",
       "      <th>65324</th>\n",
       "      <td>109</td>\n",
       "      <td>fit</td>\n",
       "      <td>other</td>\n",
       "      <td>socially</td>\n",
       "      <td>never</td>\n",
       "      <td>working on masters program</td>\n",
       "      <td>other</td>\n",
       "      <td>95.0</td>\n",
       "      <td>-1</td>\n",
       "      <td>student</td>\n",
       "      <td>...</td>\n",
       "      <td>san francisco, california</td>\n",
       "      <td>straight</td>\n",
       "      <td>m</td>\n",
       "      <td>0</td>\n",
       "      <td>when drinking</td>\n",
       "      <td>english (okay)</td>\n",
       "      <td>available</td>\n",
       "      <td>1</td>\n",
       "      <td>1</td>\n",
       "      <td>0</td>\n",
       "    </tr>\n",
       "  </tbody>\n",
       "</table>\n",
       "<p>4 rows × 21 columns</p>\n",
       "</div>"
      ],
      "text/plain": [
       "       age body_type      diet    drinks  drugs  \\\n",
       "2512   110   average  anything  socially  never   \n",
       "25324  109       fit     other  socially  never   \n",
       "42512  110   average  anything  socially  never   \n",
       "65324  109       fit     other  socially  never   \n",
       "\n",
       "                               education ethnicity  height  income      job  \\\n",
       "2512   graduated from college/university     other    67.0      -1    other   \n",
       "25324         working on masters program     other    95.0      -1  student   \n",
       "42512  graduated from college/university     other    67.0      -1    other   \n",
       "65324         working on masters program     other    95.0      -1  student   \n",
       "\n",
       "       ...                   location orientation sex sign         smokes  \\\n",
       "2512   ...      daly city, california    straight   f    0             no   \n",
       "25324  ...  san francisco, california    straight   m    0  when drinking   \n",
       "42512  ...      daly city, california    straight   f    0             no   \n",
       "65324  ...  san francisco, california    straight   m    0  when drinking   \n",
       "\n",
       "               speaks     status pets_likes_dogs  pets_likes_cats  has_pets  \n",
       "2512          english     single               1                1         0  \n",
       "25324  english (okay)  available               1                1         0  \n",
       "42512         english     single               1                1         0  \n",
       "65324  english (okay)  available               1                1         0  \n",
       "\n",
       "[4 rows x 21 columns]"
      ]
     },
     "execution_count": 41,
     "metadata": {},
     "output_type": "execute_result"
    }
   ],
   "source": [
    "features[ features['age']>90 ]"
   ]
  },
  {
   "cell_type": "code",
   "execution_count": 42,
   "metadata": {},
   "outputs": [],
   "source": [
    "features = features[features['age']<= 90]"
   ]
  },
  {
   "cell_type": "markdown",
   "metadata": {},
   "source": [
    "### Income\n",
    "This column was interesting. Despite being complete, most of the information is missing from this column. `80%` of respondents gave an answer of `-1`, which is akin to not responding at all and because of this the column will have to be dropped, due to lack of information "
   ]
  },
  {
   "cell_type": "code",
   "execution_count": 43,
   "metadata": {},
   "outputs": [
    {
     "data": {
      "text/plain": [
       "-1          96784\n",
       " 20000       5904\n",
       " 100000      3234\n",
       " 80000       2222\n",
       " 30000       2096\n",
       " 40000       2010\n",
       " 50000       1948\n",
       " 60000       1472\n",
       " 70000       1414\n",
       " 150000      1262\n",
       " 1000000     1042\n",
       " 250000       298\n",
       " 500000        96\n",
       "Name: income, dtype: int64"
      ]
     },
     "execution_count": 43,
     "metadata": {},
     "output_type": "execute_result"
    }
   ],
   "source": [
    "features['income'].value_counts()"
   ]
  },
  {
   "cell_type": "code",
   "execution_count": 44,
   "metadata": {},
   "outputs": [
    {
     "name": "stdout",
     "output_type": "stream",
     "text": [
      "40.27% \"missing\" answers\n"
     ]
    }
   ],
   "source": [
    "percentage_missing =  48237 / len(features.income)\n",
    "print(f'{percentage_missing:.2%} \"missing\" answers')"
   ]
  },
  {
   "cell_type": "code",
   "execution_count": 45,
   "metadata": {},
   "outputs": [],
   "source": [
    "#This column is not usable\n",
    "features = features.drop('income', axis=1)"
   ]
  },
  {
   "cell_type": "markdown",
   "metadata": {},
   "source": [
    "### Location\n",
    "I will drop this column also, this time because `99%` of the respondents are from `California`, which means most machine learning algorithms will not be able to derive useful patterns from this variable."
   ]
  },
  {
   "cell_type": "code",
   "execution_count": 46,
   "metadata": {},
   "outputs": [
    {
     "data": {
      "text/plain": [
       "san francisco, california         62056\n",
       "oakland, california               14426\n",
       "berkeley, california               8418\n",
       "san mateo, california              2660\n",
       "palo alto, california              2124\n",
       "                                  ...  \n",
       "south wellfleet, massachusetts        2\n",
       "orange, california                    2\n",
       "astoria, new york                     2\n",
       "london, united kingdom                2\n",
       "rochester, michigan                   2\n",
       "Name: location, Length: 198, dtype: int64"
      ]
     },
     "execution_count": 46,
     "metadata": {},
     "output_type": "execute_result"
    }
   ],
   "source": [
    "features.location.value_counts()"
   ]
  },
  {
   "cell_type": "code",
   "execution_count": 47,
   "metadata": {},
   "outputs": [
    {
     "name": "stdout",
     "output_type": "stream",
     "text": [
      "Percentage of people from California: 99.85%\n"
     ]
    }
   ],
   "source": [
    "people_from_california = features['location'].str.match(\".*california.*\").sum()\n",
    "total_people = len(features['location'])\n",
    "percentage_from_california = people_from_california / total_people\n",
    "print(f'Percentage of people from California: {percentage_from_california:.2%}')"
   ]
  },
  {
   "cell_type": "code",
   "execution_count": 48,
   "metadata": {},
   "outputs": [],
   "source": [
    "features = features.drop('location', axis=1)"
   ]
  },
  {
   "cell_type": "markdown",
   "metadata": {},
   "source": [
    "### Last online\n",
    "I will drop this column, since it is not relevant to the clusters we are trying to make"
   ]
  },
  {
   "cell_type": "code",
   "execution_count": 49,
   "metadata": {},
   "outputs": [],
   "source": [
    "features = features.drop('last_online', axis=1)"
   ]
  },
  {
   "cell_type": "markdown",
   "metadata": {},
   "source": [
    "### Orientation, Sex and Status\n",
    "These columns are complete and have a reasonable number of categories each one, there is no further need of transformation except for the encoding in a future st"
   ]
  },
  {
   "cell_type": "code",
   "execution_count": 50,
   "metadata": {},
   "outputs": [
    {
     "data": {
      "text/plain": [
       "straight    103118\n",
       "gay          11134\n",
       "bisexual      5530\n",
       "Name: orientation, dtype: int64"
      ]
     },
     "execution_count": 50,
     "metadata": {},
     "output_type": "execute_result"
    }
   ],
   "source": [
    "features.orientation.value_counts()"
   ]
  },
  {
   "cell_type": "code",
   "execution_count": 51,
   "metadata": {},
   "outputs": [
    {
     "data": {
      "text/plain": [
       "m    71582\n",
       "f    48200\n",
       "Name: sex, dtype: int64"
      ]
     },
     "execution_count": 51,
     "metadata": {},
     "output_type": "execute_result"
    }
   ],
   "source": [
    "features.sex.value_counts()"
   ]
  },
  {
   "cell_type": "code",
   "execution_count": 52,
   "metadata": {},
   "outputs": [
    {
     "data": {
      "text/plain": [
       "single            111292\n",
       "seeing someone      4128\n",
       "available           3722\n",
       "married              620\n",
       "unknown               20\n",
       "Name: status, dtype: int64"
      ]
     },
     "execution_count": 52,
     "metadata": {},
     "output_type": "execute_result"
    }
   ],
   "source": [
    "features.status.value_counts()"
   ]
  },
  {
   "cell_type": "markdown",
   "metadata": {},
   "source": [
    "### Speaks\n",
    "\n",
    "Virtually all the answer in this column have `english` in them, tehrefore I will derive another column which states if the respondent talks more than one language"
   ]
  },
  {
   "cell_type": "code",
   "execution_count": 53,
   "metadata": {},
   "outputs": [
    {
     "data": {
      "text/plain": [
       "119782"
      ]
     },
     "execution_count": 53,
     "metadata": {},
     "output_type": "execute_result"
    }
   ],
   "source": [
    "features.speaks.str.contains('english').sum()#Rows from people who speak English"
   ]
  },
  {
   "cell_type": "code",
   "execution_count": 54,
   "metadata": {},
   "outputs": [
    {
     "data": {
      "text/plain": [
       "119782"
      ]
     },
     "execution_count": 54,
     "metadata": {},
     "output_type": "execute_result"
    }
   ],
   "source": [
    "len(features.speaks)#Total rows"
   ]
  },
  {
   "cell_type": "code",
   "execution_count": 55,
   "metadata": {},
   "outputs": [
    {
     "data": {
      "text/plain": [
       "english                                                                43652\n",
       "english (fluently)                                                     13254\n",
       "english (fluently), spanish (poorly)                                    4118\n",
       "english (fluently), spanish (okay)                                      3834\n",
       "english (fluently), spanish (fluently)                                  2576\n",
       "                                                                       ...  \n",
       "english (fluently), urdu (poorly), japanese (poorly), french (okay)        2\n",
       "english, spanish, hindi, c++                                               2\n",
       "english (fluently), japanese (okay), thai (okay), chinese (poorly)         2\n",
       "english (fluently), french (okay), italian (okay), hebrew (okay)           2\n",
       "english (fluently), french, farsi                                          2\n",
       "Name: speaks, Length: 7647, dtype: int64"
      ]
     },
     "execution_count": 55,
     "metadata": {},
     "output_type": "execute_result"
    }
   ],
   "source": [
    "features.speaks.value_counts()"
   ]
  },
  {
   "cell_type": "code",
   "execution_count": 56,
   "metadata": {},
   "outputs": [],
   "source": [
    "features['speaks_other_than_english'] = features.speaks.apply(lambda x: 1 if len(x.split()) > 1 else 0)"
   ]
  },
  {
   "cell_type": "code",
   "execution_count": 57,
   "metadata": {},
   "outputs": [
    {
     "data": {
      "text/plain": [
       "1    76130\n",
       "0    43652\n",
       "Name: speaks_other_than_english, dtype: int64"
      ]
     },
     "execution_count": 57,
     "metadata": {},
     "output_type": "execute_result"
    }
   ],
   "source": [
    "features['speaks_other_than_english'].value_counts()"
   ]
  },
  {
   "cell_type": "code",
   "execution_count": 58,
   "metadata": {
    "scrolled": false
   },
   "outputs": [],
   "source": [
    "features = features.drop('speaks', axis=1)"
   ]
  },
  {
   "cell_type": "markdown",
   "metadata": {},
   "source": [
    "<hr>"
   ]
  },
  {
   "cell_type": "markdown",
   "metadata": {},
   "source": [
    "## Feature engineering\n",
    "This step will encode the columns with the correct technique, as assesed earlier. For some columns, we already applied transformations in the step above so there is no need for further processing.\n",
    "I will also scale the columns, in order to be able to perform PCA in a later step"
   ]
  },
  {
   "cell_type": "markdown",
   "metadata": {},
   "source": [
    "#### One-hot encoding\n",
    "These columns were selected above to be changed into numbers using one-hot encoding"
   ]
  },
  {
   "cell_type": "code",
   "execution_count": 59,
   "metadata": {},
   "outputs": [],
   "source": [
    "one_hot_columns = ['body_type', 'diet', 'drinks', 'drugs', 'ethnicity', \\\n",
    "                   'smokes', 'sex', 'status', 'orientation']\n",
    "for col in one_hot_columns:\n",
    "    dummies = pd.get_dummies(features[col], prefix=col, drop_first=True)\n",
    "    features = features.join(dummies)\n",
    "    features = features.drop(col, axis=1)"
   ]
  },
  {
   "cell_type": "markdown",
   "metadata": {},
   "source": [
    "##### Binary encoding\n",
    "This will be useful to encode the `jobs` and `education` columns without creating too much new columns"
   ]
  },
  {
   "cell_type": "code",
   "execution_count": 60,
   "metadata": {},
   "outputs": [],
   "source": [
    "#To see the mapping of the Binary encoder uncomment the lines below\n",
    "\n",
    "#jobs = BinaryEncoder(cols=['job'], drop_invariant=True)\n",
    "#jobs.fit(features['job'])\n",
    "#jobs.transform(features['job'].value_counts().index.to_series(name='job'))"
   ]
  },
  {
   "cell_type": "code",
   "execution_count": 61,
   "metadata": {},
   "outputs": [],
   "source": [
    "#To see the mapping of the Binary encoder uncomment the lines below\n",
    "\n",
    "# jobs = BinaryEncoder(cols=['education'], drop_invariant=True)\n",
    "# jobs.fit(features['education'])\n",
    "# jobs.transform(features['education'].value_counts().index.to_series(name='education'))"
   ]
  },
  {
   "cell_type": "code",
   "execution_count": 62,
   "metadata": {},
   "outputs": [],
   "source": [
    "features = BinaryEncoder(cols=['education','job'], drop_invariant=True).fit_transform(features)\n",
    "# features = features.drop(['education','job'], axis=1)"
   ]
  },
  {
   "cell_type": "markdown",
   "metadata": {},
   "source": [
    "##### Scaling\n",
    "The MinMaxScaler works well in this case because it adjusts the range of the variables between 0 and 1, this is perfect because so far qe have been assigning 0 or 1 to the transformation of the categorical variables (the majority of the columns)"
   ]
  },
  {
   "cell_type": "code",
   "execution_count": 63,
   "metadata": {},
   "outputs": [],
   "source": [
    "scaler = MinMaxScaler()\n",
    "scaled_features = scaler.fit_transform(features)"
   ]
  },
  {
   "cell_type": "markdown",
   "metadata": {},
   "source": [
    "<hr>"
   ]
  },
  {
   "cell_type": "markdown",
   "metadata": {},
   "source": [
    "## Model"
   ]
  },
  {
   "cell_type": "markdown",
   "metadata": {},
   "source": [
    "##### PCA\n",
    "Normally PCA is used to reduce the dimensions of the dataset into only 2, to be able to plot the variables and continue with the analysis. As the analysis is somewhat complete in the above sections, we will proceed to use PCA to reduce the dimensions and hopefully improve the performance of the clustering algorithm. Using the cumulative variance plot, 10 components seems a reasonable number of dimensions to use: it reduces the number of variables from 48 to 10, and it retains almost 98% of the variability of the dataset."
   ]
  },
  {
   "cell_type": "code",
   "execution_count": 64,
   "metadata": {},
   "outputs": [
    {
     "data": {
      "image/png": "[encoded data removed]",
      "text/plain": [
       "<Figure size 500x400 with 1 Axes>"
      ]
     },
     "metadata": {},
     "output_type": "display_data"
    }
   ],
   "source": [
    "pca = PCA()\n",
    "pca.fit(features)\n",
    "plt.figure(figsize=(5,4))\n",
    "plt.plot(range(1,len(features.columns)+1), pca.explained_variance_ratio_.cumsum())\n",
    "plt.title('Cumulative variance plot')\n",
    "plt.xlabel('Number of components')\n",
    "plt.ylabel('Explained variance')\n",
    "plt.show()"
   ]
  },
  {
   "cell_type": "code",
   "execution_count": 65,
   "metadata": {},
   "outputs": [
    {
     "name": "stdout",
     "output_type": "stream",
     "text": [
      "Percentage of variance explained with only 10 components:  97.89%\n"
     ]
    }
   ],
   "source": [
    "suma = 0\n",
    "for i in range(10):\n",
    "    suma += pca.explained_variance_ratio_[i]\n",
    "print(f'Percentage of variance explained with only 10 components: {suma: .2%}')"
   ]
  },
  {
   "cell_type": "code",
   "execution_count": 66,
   "metadata": {},
   "outputs": [],
   "source": [
    "#Setting the components to the parameter defined above\n",
    "pca = PCA(n_components=10)\n",
    "pca.fit(features)\n",
    "new_features = pca.transform(features)"
   ]
  },
  {
   "cell_type": "markdown",
   "metadata": {},
   "source": [
    "##### Elbow method\n",
    "We will now tune the number of clusters used in the algorithm using the elbow method:\n",
    "train a KMeans algorithm with a different value for the hyperparameter (number of clusters) and select a value that is not too high but performs well. 'Performs well' means that the inertia of the clusters is small.\n",
    "\n",
    "Curiously, the plot below shows that 10 is also a good value for the number of clusters, so this is what we will use in the final version of the algorithm"
   ]
  },
  {
   "cell_type": "code",
   "execution_count": 67,
   "metadata": {},
   "outputs": [],
   "source": [
    "#Use the elbow method to determine the optimal number of clusters\n",
    "#It seems that the inertia starts to decrease more slowly at 10 clusters \n",
    "\n",
    "# num_clusters = [x for x in range(1, 55, 3)]\n",
    "# inertias = []\n",
    "# for k in num_clusters:\n",
    "#     model = KMeans(n_clusters=k)\n",
    "#     model.fit(new_features)\n",
    "#     inertias.append(model.inertia_)\n",
    "# plt.plot(num_clusters, inertias, '-o')\n",
    "# plt.xlabel('Number of Clusters (k)')\n",
    "# plt.ylabel('Inertia')\n",
    "# plt.show()"
   ]
  },
  {
   "cell_type": "code",
   "execution_count": 68,
   "metadata": {},
   "outputs": [
    {
     "data": {
      "text/plain": [
       "KMeans(n_clusters=10)"
      ]
     },
     "execution_count": 68,
     "metadata": {},
     "output_type": "execute_result"
    }
   ],
   "source": [
    "#Final, trained (fitted) version of the KMeans algorithm\n",
    "best_num_clusters = 10\n",
    "model = KMeans(n_clusters=best_num_clusters)\n",
    "model.fit(new_features)"
   ]
  },
  {
   "cell_type": "markdown",
   "metadata": {},
   "source": [
    "##### Prediction and recomendation\n",
    "Now, to output a recommendation from this clusters. \n",
    "1. predict cluster labels for the original dataframe, concatenate this new column\n",
    "2. make a prediction of a new point. This will signal the cluster in which this new point belongs\n",
    "3. output a recommendation from the people in the original dataset who are in the same cluster as the new point (are most similar)"
   ]
  },
  {
   "cell_type": "code",
   "execution_count": 69,
   "metadata": {},
   "outputs": [],
   "source": [
    "label = model.predict(new_features)\n",
    "df = df[df.index.isin(features.index)]\n",
    "df['label'] = label.tolist()"
   ]
  },
  {
   "cell_type": "code",
   "execution_count": 70,
   "metadata": {},
   "outputs": [
    {
     "ename": "KeyboardInterrupt",
     "evalue": "Interrupted by user",
     "output_type": "error",
     "traceback": [
      "\u001b[0;31m---------------------------------------------------------------------------\u001b[0m",
      "\u001b[0;31mKeyboardInterrupt\u001b[0m                         Traceback (most recent call last)",
      "\u001b[0;32m/tmp/ipykernel_9640/2528599037.py\u001b[0m in \u001b[0;36m<module>\u001b[0;34m\u001b[0m\n\u001b[1;32m      1\u001b[0m \u001b[0mnew_point\u001b[0m \u001b[0;34m=\u001b[0m \u001b[0;34m[\u001b[0m\u001b[0;34m]\u001b[0m\u001b[0;34m\u001b[0m\u001b[0;34m\u001b[0m\u001b[0m\n\u001b[1;32m      2\u001b[0m \u001b[0;32mfor\u001b[0m \u001b[0mcol\u001b[0m \u001b[0;32min\u001b[0m \u001b[0mfeatures\u001b[0m\u001b[0;34m.\u001b[0m\u001b[0mcolumns\u001b[0m\u001b[0;34m:\u001b[0m\u001b[0;34m\u001b[0m\u001b[0;34m\u001b[0m\u001b[0m\n\u001b[0;32m----> 3\u001b[0;31m     \u001b[0mvalue\u001b[0m\u001b[0;34m=\u001b[0m\u001b[0mint\u001b[0m\u001b[0;34m(\u001b[0m\u001b[0minput\u001b[0m\u001b[0;34m(\u001b[0m\u001b[0;34mf'enter value for: {col}  '\u001b[0m\u001b[0;34m)\u001b[0m\u001b[0;34m)\u001b[0m\u001b[0;34m\u001b[0m\u001b[0;34m\u001b[0m\u001b[0m\n\u001b[0m\u001b[1;32m      4\u001b[0m     \u001b[0mnew_point\u001b[0m\u001b[0;34m.\u001b[0m\u001b[0mappend\u001b[0m\u001b[0;34m(\u001b[0m\u001b[0mvalue\u001b[0m\u001b[0;34m)\u001b[0m\u001b[0;34m\u001b[0m\u001b[0;34m\u001b[0m\u001b[0m\n",
      "\u001b[0;32m~/anaconda3/lib/python3.9/site-packages/ipykernel/kernelbase.py\u001b[0m in \u001b[0;36mraw_input\u001b[0;34m(self, prompt)\u001b[0m\n\u001b[1;32m   1175\u001b[0m                 \u001b[0;34m\"raw_input was called, but this frontend does not support input requests.\"\u001b[0m\u001b[0;34m\u001b[0m\u001b[0;34m\u001b[0m\u001b[0m\n\u001b[1;32m   1176\u001b[0m             )\n\u001b[0;32m-> 1177\u001b[0;31m         return self._input_request(\n\u001b[0m\u001b[1;32m   1178\u001b[0m             \u001b[0mstr\u001b[0m\u001b[0;34m(\u001b[0m\u001b[0mprompt\u001b[0m\u001b[0;34m)\u001b[0m\u001b[0;34m,\u001b[0m\u001b[0;34m\u001b[0m\u001b[0;34m\u001b[0m\u001b[0m\n\u001b[1;32m   1179\u001b[0m             \u001b[0mself\u001b[0m\u001b[0;34m.\u001b[0m\u001b[0m_parent_ident\u001b[0m\u001b[0;34m[\u001b[0m\u001b[0;34m\"shell\"\u001b[0m\u001b[0;34m]\u001b[0m\u001b[0;34m,\u001b[0m\u001b[0;34m\u001b[0m\u001b[0;34m\u001b[0m\u001b[0m\n",
      "\u001b[0;32m~/anaconda3/lib/python3.9/site-packages/ipykernel/kernelbase.py\u001b[0m in \u001b[0;36m_input_request\u001b[0;34m(self, prompt, ident, parent, password)\u001b[0m\n\u001b[1;32m   1217\u001b[0m             \u001b[0;32mexcept\u001b[0m \u001b[0mKeyboardInterrupt\u001b[0m\u001b[0;34m:\u001b[0m\u001b[0;34m\u001b[0m\u001b[0;34m\u001b[0m\u001b[0m\n\u001b[1;32m   1218\u001b[0m                 \u001b[0;31m# re-raise KeyboardInterrupt, to truncate traceback\u001b[0m\u001b[0;34m\u001b[0m\u001b[0;34m\u001b[0m\u001b[0m\n\u001b[0;32m-> 1219\u001b[0;31m                 \u001b[0;32mraise\u001b[0m \u001b[0mKeyboardInterrupt\u001b[0m\u001b[0;34m(\u001b[0m\u001b[0;34m\"Interrupted by user\"\u001b[0m\u001b[0;34m)\u001b[0m \u001b[0;32mfrom\u001b[0m \u001b[0;32mNone\u001b[0m\u001b[0;34m\u001b[0m\u001b[0;34m\u001b[0m\u001b[0m\n\u001b[0m\u001b[1;32m   1220\u001b[0m             \u001b[0;32mexcept\u001b[0m \u001b[0mException\u001b[0m\u001b[0;34m:\u001b[0m\u001b[0;34m\u001b[0m\u001b[0;34m\u001b[0m\u001b[0m\n\u001b[1;32m   1221\u001b[0m                 \u001b[0mself\u001b[0m\u001b[0;34m.\u001b[0m\u001b[0mlog\u001b[0m\u001b[0;34m.\u001b[0m\u001b[0mwarning\u001b[0m\u001b[0;34m(\u001b[0m\u001b[0;34m\"Invalid Message:\"\u001b[0m\u001b[0;34m,\u001b[0m \u001b[0mexc_info\u001b[0m\u001b[0;34m=\u001b[0m\u001b[0;32mTrue\u001b[0m\u001b[0;34m)\u001b[0m\u001b[0;34m\u001b[0m\u001b[0;34m\u001b[0m\u001b[0m\n",
      "\u001b[0;31mKeyboardInterrupt\u001b[0m: Interrupted by user"
     ]
    }
   ],
   "source": [
    "new_point = []\n",
    "for col in features.columns:\n",
    "    value=int(input(f'enter value for: {col}  '))\n",
    "    new_point.append(value)"
   ]
  },
  {
   "cell_type": "code",
   "execution_count": null,
   "metadata": {},
   "outputs": [],
   "source": [
    "new_point = np.array(new_point).reshape(1, 48)\n",
    "new_point = scaler.transform(new_point)\n",
    "pca_new_point = pca.transform(new_point)"
   ]
  },
  {
   "cell_type": "code",
   "execution_count": null,
   "metadata": {},
   "outputs": [],
   "source": [
    "predicted_cluster = model.predict(pca_new_point)[0]\n",
    "print(predicted_cluster)"
   ]
  },
  {
   "cell_type": "code",
   "execution_count": null,
   "metadata": {},
   "outputs": [],
   "source": [
    "preferred_orientation = 'straight'\n",
    "preferred_sex = 'f'\n",
    "possible_recommendations = df[ (df['label']==predicted_cluster) \n",
    "                              & (df['sex']==preferred_sex) \n",
    "                              & (df['orientation']==preferred_orientation\n",
    "                            )]\n",
    "possible_recommendations"
   ]
  },
  {
   "cell_type": "markdown",
   "metadata": {},
   "source": [
    "<hr>"
   ]
  },
  {
   "cell_type": "markdown",
   "metadata": {},
   "source": [
    "## Conclusions\n",
    "This project succesfully built a recommender engine that outputs recommended profiles from a dating app, it does so by using an unsupervised KMeans clustering algorithm to group profiles that are similar, and then assigning a group to the user that wants recommendations, the final set of recommendations is then output by selecting profiles from the same group as the user and filtered by some preferences. There are some improvements to be made to the recommendations, for example devising a user-friendly way to input data for new recommendations, and perhaps ranking the recommendations taking into account other filtering criteria."
   ]
  },
  {
   "cell_type": "markdown",
   "metadata": {},
   "source": [
    "## Further research\n",
    "This project can be the starting point to test improvements to the recommendation engine proposed here, for example, one avenue to explore is to propose the engineering of different features. Many of the columns used were interpreted by the current researcher, but there are other ways to derive information fron the same columns.\n",
    "Another possible path of improvement is to utilize other variables in the original dataset. There are many columns on the original dataset that were unused for this project, these can be used to conduct Natural Language Processing to enhance the recommendations given.\n",
    "Finally, the same algorithm can be changed to add some variation to the recommendations, this could add serendipity to the final result set and improve user satistaction. Variation of this approach can be achieved for example, by creating different clusters according to filtering criteria, one concrete possibility is to create a different data set for every orientation, and then clustering for each one.\n",
    "As we can see, this project is open to changes and improvements, the reader is invited to explore this paths and propose ideas of their own"
   ]
  }
 ],
 "metadata": {
  "kernelspec": {
   "display_name": "Python 3 (ipykernel)",
   "language": "python",
   "name": "python3"
  },
  "language_info": {
   "codemirror_mode": {
    "name": "ipython",
    "version": 3
   },
   "file_extension": ".py",
   "mimetype": "text/x-python",
   "name": "python",
   "nbconvert_exporter": "python",
   "pygments_lexer": "ipython3",
   "version": "3.9.13"
  }
 },
 "nbformat": 4,
 "nbformat_minor": 4
}
