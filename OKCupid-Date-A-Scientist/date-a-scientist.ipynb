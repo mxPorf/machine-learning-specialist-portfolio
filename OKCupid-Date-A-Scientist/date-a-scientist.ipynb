{
 "cells": [
  {
   "cell_type": "markdown",
   "metadata": {},
   "source": [
    "# Date-a-Scientist\n",
    "This is a Machine Learningproject that encourages thinking and practical\n",
    "\n",
    "\n",
    "In recent years, there has been a massive rise in the usage of dating apps to find love. Many of these apps use sophisticated data science techniques to recommend possible matches to users and to optimize the user experience. These apps give us access to a wealth of information that we’ve never had before about how different people experience romance.\n",
    "\n",
    "In this portfolio project, you will analyze some data from OKCupid, an app that focuses on using multiple choice and short answers to match users"
   ]
  },
  {
   "cell_type": "markdown",
   "metadata": {},
   "source": [
    "## Introduction"
   ]
  },
  {
   "cell_type": "markdown",
   "metadata": {},
   "source": [
    "Objective: \n",
    "- Create a recommendation engine\n",
    "it will be a feature recommendation engine\n",
    "KMeans clustering to order the data and derive recommendations from clusters"
   ]
  },
  {
   "cell_type": "markdown",
   "metadata": {},
   "source": [
    "Steps followed in this project\n",
    "1. Clean the data\n",
    "    - drop unused columns\n",
    "    - look into missing values\n",
    "    - look for errors in column inputs (misspelling, incoherent values, falsy values)\n",
    "2. Feature engineering\n",
    "    - derive other columns from existing ones\n",
    "    - pca\n",
    "3. Create and tune model\n",
    "    - elbow model for kmeans\n",
    "    - output class for new data\n",
    "    - Output recommendations\n",
    "4. Conclusions and further research"
   ]
  },
  {
   "cell_type": "markdown",
   "metadata": {},
   "source": [
    "## Clean the data"
   ]
  },
  {
   "cell_type": "markdown",
   "metadata": {},
   "source": [
    "First, import the necessary libraries and tools, to then start by peeking into the dataset and the information it contains. We can see that there are some columns that contain text (named essay0, essay1, etc.) since the algorithm will not perform Natural Language Processing, I will drop these columns and investigate the rest."
   ]
  },
  {
   "cell_type": "code",
   "execution_count": 1,
   "metadata": {},
   "outputs": [],
   "source": [
    "import pandas as pd \n",
    "import matplotlib.pyplot as plt\n",
    "import numpy as np\n",
    "from sklearn.preprocessing import MinMaxScaler\n",
    "from sklearn.cluster import KMeans\n",
    "from sklearn.decomposition import PCA\n",
    "from category_encoders import BinaryEncoder\n",
    "\n",
    "%matplotlib inline"
   ]
  },
  {
   "cell_type": "code",
   "execution_count": 2,
   "metadata": {},
   "outputs": [
    {
     "data": {
      "text/html": [
       "<div>\n",
       "<style scoped>\n",
       "    .dataframe tbody tr th:only-of-type {\n",
       "        vertical-align: middle;\n",
       "    }\n",
       "\n",
       "    .dataframe tbody tr th {\n",
       "        vertical-align: top;\n",
       "    }\n",
       "\n",
       "    .dataframe thead th {\n",
       "        text-align: right;\n",
       "    }\n",
       "</style>\n",
       "<table border=\"1\" class=\"dataframe\">\n",
       "  <thead>\n",
       "    <tr style=\"text-align: right;\">\n",
       "      <th></th>\n",
       "      <th>age</th>\n",
       "      <th>body_type</th>\n",
       "      <th>diet</th>\n",
       "      <th>drinks</th>\n",
       "      <th>drugs</th>\n",
       "      <th>education</th>\n",
       "      <th>essay0</th>\n",
       "      <th>essay1</th>\n",
       "      <th>essay2</th>\n",
       "      <th>essay3</th>\n",
       "      <th>...</th>\n",
       "      <th>location</th>\n",
       "      <th>offspring</th>\n",
       "      <th>orientation</th>\n",
       "      <th>pets</th>\n",
       "      <th>religion</th>\n",
       "      <th>sex</th>\n",
       "      <th>sign</th>\n",
       "      <th>smokes</th>\n",
       "      <th>speaks</th>\n",
       "      <th>status</th>\n",
       "    </tr>\n",
       "  </thead>\n",
       "  <tbody>\n",
       "    <tr>\n",
       "      <th>0</th>\n",
       "      <td>22</td>\n",
       "      <td>a little extra</td>\n",
       "      <td>strictly anything</td>\n",
       "      <td>socially</td>\n",
       "      <td>never</td>\n",
       "      <td>working on college/university</td>\n",
       "      <td>about me:&lt;br /&gt;\\n&lt;br /&gt;\\ni would love to think...</td>\n",
       "      <td>currently working as an international agent fo...</td>\n",
       "      <td>making people laugh.&lt;br /&gt;\\nranting about a go...</td>\n",
       "      <td>the way i look. i am a six foot half asian, ha...</td>\n",
       "      <td>...</td>\n",
       "      <td>south san francisco, california</td>\n",
       "      <td>doesn&amp;rsquo;t have kids, but might want them</td>\n",
       "      <td>straight</td>\n",
       "      <td>likes dogs and likes cats</td>\n",
       "      <td>agnosticism and very serious about it</td>\n",
       "      <td>m</td>\n",
       "      <td>gemini</td>\n",
       "      <td>sometimes</td>\n",
       "      <td>english</td>\n",
       "      <td>single</td>\n",
       "    </tr>\n",
       "    <tr>\n",
       "      <th>1</th>\n",
       "      <td>35</td>\n",
       "      <td>average</td>\n",
       "      <td>mostly other</td>\n",
       "      <td>often</td>\n",
       "      <td>sometimes</td>\n",
       "      <td>working on space camp</td>\n",
       "      <td>i am a chef: this is what that means.&lt;br /&gt;\\n1...</td>\n",
       "      <td>dedicating everyday to being an unbelievable b...</td>\n",
       "      <td>being silly. having ridiculous amonts of fun w...</td>\n",
       "      <td>NaN</td>\n",
       "      <td>...</td>\n",
       "      <td>oakland, california</td>\n",
       "      <td>doesn&amp;rsquo;t have kids, but might want them</td>\n",
       "      <td>straight</td>\n",
       "      <td>likes dogs and likes cats</td>\n",
       "      <td>agnosticism but not too serious about it</td>\n",
       "      <td>m</td>\n",
       "      <td>cancer</td>\n",
       "      <td>no</td>\n",
       "      <td>english (fluently), spanish (poorly), french (...</td>\n",
       "      <td>single</td>\n",
       "    </tr>\n",
       "    <tr>\n",
       "      <th>2</th>\n",
       "      <td>38</td>\n",
       "      <td>thin</td>\n",
       "      <td>anything</td>\n",
       "      <td>socially</td>\n",
       "      <td>NaN</td>\n",
       "      <td>graduated from masters program</td>\n",
       "      <td>i'm not ashamed of much, but writing public te...</td>\n",
       "      <td>i make nerdy software for musicians, artists, ...</td>\n",
       "      <td>improvising in different contexts. alternating...</td>\n",
       "      <td>my large jaw and large glasses are the physica...</td>\n",
       "      <td>...</td>\n",
       "      <td>san francisco, california</td>\n",
       "      <td>NaN</td>\n",
       "      <td>straight</td>\n",
       "      <td>has cats</td>\n",
       "      <td>NaN</td>\n",
       "      <td>m</td>\n",
       "      <td>pisces but it doesn&amp;rsquo;t matter</td>\n",
       "      <td>no</td>\n",
       "      <td>english, french, c++</td>\n",
       "      <td>available</td>\n",
       "    </tr>\n",
       "    <tr>\n",
       "      <th>3</th>\n",
       "      <td>23</td>\n",
       "      <td>thin</td>\n",
       "      <td>vegetarian</td>\n",
       "      <td>socially</td>\n",
       "      <td>NaN</td>\n",
       "      <td>working on college/university</td>\n",
       "      <td>i work in a library and go to school. . .</td>\n",
       "      <td>reading things written by old dead people</td>\n",
       "      <td>playing synthesizers and organizing books acco...</td>\n",
       "      <td>socially awkward but i do my best</td>\n",
       "      <td>...</td>\n",
       "      <td>berkeley, california</td>\n",
       "      <td>doesn&amp;rsquo;t want kids</td>\n",
       "      <td>straight</td>\n",
       "      <td>likes cats</td>\n",
       "      <td>NaN</td>\n",
       "      <td>m</td>\n",
       "      <td>pisces</td>\n",
       "      <td>no</td>\n",
       "      <td>english, german (poorly)</td>\n",
       "      <td>single</td>\n",
       "    </tr>\n",
       "    <tr>\n",
       "      <th>4</th>\n",
       "      <td>29</td>\n",
       "      <td>athletic</td>\n",
       "      <td>NaN</td>\n",
       "      <td>socially</td>\n",
       "      <td>never</td>\n",
       "      <td>graduated from college/university</td>\n",
       "      <td>hey how's it going? currently vague on the pro...</td>\n",
       "      <td>work work work work + play</td>\n",
       "      <td>creating imagery to look at:&lt;br /&gt;\\nhttp://bag...</td>\n",
       "      <td>i smile a lot and my inquisitive nature</td>\n",
       "      <td>...</td>\n",
       "      <td>san francisco, california</td>\n",
       "      <td>NaN</td>\n",
       "      <td>straight</td>\n",
       "      <td>likes dogs and likes cats</td>\n",
       "      <td>NaN</td>\n",
       "      <td>m</td>\n",
       "      <td>aquarius</td>\n",
       "      <td>no</td>\n",
       "      <td>english</td>\n",
       "      <td>single</td>\n",
       "    </tr>\n",
       "  </tbody>\n",
       "</table>\n",
       "<p>5 rows × 31 columns</p>\n",
       "</div>"
      ],
      "text/plain": [
       "   age       body_type               diet    drinks      drugs  \\\n",
       "0   22  a little extra  strictly anything  socially      never   \n",
       "1   35         average       mostly other     often  sometimes   \n",
       "2   38            thin           anything  socially        NaN   \n",
       "3   23            thin         vegetarian  socially        NaN   \n",
       "4   29        athletic                NaN  socially      never   \n",
       "\n",
       "                           education  \\\n",
       "0      working on college/university   \n",
       "1              working on space camp   \n",
       "2     graduated from masters program   \n",
       "3      working on college/university   \n",
       "4  graduated from college/university   \n",
       "\n",
       "                                              essay0  \\\n",
       "0  about me:<br />\\n<br />\\ni would love to think...   \n",
       "1  i am a chef: this is what that means.<br />\\n1...   \n",
       "2  i'm not ashamed of much, but writing public te...   \n",
       "3          i work in a library and go to school. . .   \n",
       "4  hey how's it going? currently vague on the pro...   \n",
       "\n",
       "                                              essay1  \\\n",
       "0  currently working as an international agent fo...   \n",
       "1  dedicating everyday to being an unbelievable b...   \n",
       "2  i make nerdy software for musicians, artists, ...   \n",
       "3          reading things written by old dead people   \n",
       "4                         work work work work + play   \n",
       "\n",
       "                                              essay2  \\\n",
       "0  making people laugh.<br />\\nranting about a go...   \n",
       "1  being silly. having ridiculous amonts of fun w...   \n",
       "2  improvising in different contexts. alternating...   \n",
       "3  playing synthesizers and organizing books acco...   \n",
       "4  creating imagery to look at:<br />\\nhttp://bag...   \n",
       "\n",
       "                                              essay3  ...  \\\n",
       "0  the way i look. i am a six foot half asian, ha...  ...   \n",
       "1                                                NaN  ...   \n",
       "2  my large jaw and large glasses are the physica...  ...   \n",
       "3                  socially awkward but i do my best  ...   \n",
       "4            i smile a lot and my inquisitive nature  ...   \n",
       "\n",
       "                          location  \\\n",
       "0  south san francisco, california   \n",
       "1              oakland, california   \n",
       "2        san francisco, california   \n",
       "3             berkeley, california   \n",
       "4        san francisco, california   \n",
       "\n",
       "                                      offspring orientation  \\\n",
       "0  doesn&rsquo;t have kids, but might want them    straight   \n",
       "1  doesn&rsquo;t have kids, but might want them    straight   \n",
       "2                                           NaN    straight   \n",
       "3                       doesn&rsquo;t want kids    straight   \n",
       "4                                           NaN    straight   \n",
       "\n",
       "                        pets                                  religion sex  \\\n",
       "0  likes dogs and likes cats     agnosticism and very serious about it   m   \n",
       "1  likes dogs and likes cats  agnosticism but not too serious about it   m   \n",
       "2                   has cats                                       NaN   m   \n",
       "3                 likes cats                                       NaN   m   \n",
       "4  likes dogs and likes cats                                       NaN   m   \n",
       "\n",
       "                                 sign     smokes  \\\n",
       "0                              gemini  sometimes   \n",
       "1                              cancer         no   \n",
       "2  pisces but it doesn&rsquo;t matter         no   \n",
       "3                              pisces         no   \n",
       "4                            aquarius         no   \n",
       "\n",
       "                                              speaks     status  \n",
       "0                                            english     single  \n",
       "1  english (fluently), spanish (poorly), french (...     single  \n",
       "2                               english, french, c++  available  \n",
       "3                           english, german (poorly)     single  \n",
       "4                                            english     single  \n",
       "\n",
       "[5 rows x 31 columns]"
      ]
     },
     "execution_count": 2,
     "metadata": {},
     "output_type": "execute_result"
    }
   ],
   "source": [
    "df = pd.read_csv('profiles.csv')\n",
    "df.head()"
   ]
  },
  {
   "cell_type": "markdown",
   "metadata": {},
   "source": []
  },
  {
   "cell_type": "code",
   "execution_count": 3,
   "metadata": {},
   "outputs": [
    {
     "data": {
      "text/plain": [
       "Index(['age', 'body_type', 'diet', 'drinks', 'drugs', 'education', 'essay0',\n",
       "       'essay1', 'essay2', 'essay3', 'essay4', 'essay5', 'essay6', 'essay7',\n",
       "       'essay8', 'essay9', 'ethnicity', 'height', 'income', 'job',\n",
       "       'last_online', 'location', 'offspring', 'orientation', 'pets',\n",
       "       'religion', 'sex', 'sign', 'smokes', 'speaks', 'status'],\n",
       "      dtype='object')"
      ]
     },
     "execution_count": 3,
     "metadata": {},
     "output_type": "execute_result"
    }
   ],
   "source": [
    "df.columns"
   ]
  },
  {
   "cell_type": "code",
   "execution_count": 4,
   "metadata": {},
   "outputs": [
    {
     "data": {
      "text/plain": [
       "Index(['age', 'body_type', 'diet', 'drinks', 'drugs', 'education', 'ethnicity',\n",
       "       'height', 'income', 'job', 'last_online', 'location', 'offspring',\n",
       "       'orientation', 'pets', 'religion', 'sex', 'sign', 'smokes', 'speaks',\n",
       "       'status'],\n",
       "      dtype='object')"
      ]
     },
     "execution_count": 4,
     "metadata": {},
     "output_type": "execute_result"
    }
   ],
   "source": [
    "features = df[ [col for col in df.columns if 'essay' not in col] ]\n",
    "features.columns"
   ]
  },
  {
   "cell_type": "markdown",
   "metadata": {},
   "source": [
    "In this stage of the project, I will deal with the missing values in every column, I will also look at each column individually to understand if the values need further processing, such as tranformations or rearrangement, wich will be done as part of the feature engineering step of this project. These are the actions that I will perform in this cleaning step:\n",
    "\n",
    "- Columns with complete entries: These columns do not have missing values, but I will look at them in future steps to see if they have mistakes like incorrect values. The columns in this group are: <br> `age`, `income`, `last_online`, `location`, `orientation`, `sex` and `status`.\n",
    "- Columns with missing information: The `offspring` column is missing almost 60% of all entries, it will be dropped due to lack of information.\n",
    "- Columns with little missing values: `speaks` and `height` are missing a small number of entries, so the rows with the missing data will be dropped\n",
    "- Columns to analyze individually: These columns will be analyzed one by one, to determine the best course of action for each one. The columns in this group are: <br> `body_type`, `diet`, `drinks`, `drugs`, `education`, `ethnicity`, `job`, `pets`, `religion`, `sign` and `smokes`."
   ]
  },
  {
   "cell_type": "code",
   "execution_count": 5,
   "metadata": {},
   "outputs": [
    {
     "name": "stdout",
     "output_type": "stream",
     "text": [
      "<class 'pandas.core.frame.DataFrame'>\n",
      "RangeIndex: 59946 entries, 0 to 59945\n",
      "Data columns (total 21 columns):\n",
      " #   Column       Non-Null Count  Dtype  \n",
      "---  ------       --------------  -----  \n",
      " 0   age          59946 non-null  int64  \n",
      " 1   body_type    54650 non-null  object \n",
      " 2   diet         35551 non-null  object \n",
      " 3   drinks       56961 non-null  object \n",
      " 4   drugs        45866 non-null  object \n",
      " 5   education    53318 non-null  object \n",
      " 6   ethnicity    54266 non-null  object \n",
      " 7   height       59943 non-null  float64\n",
      " 8   income       59946 non-null  int64  \n",
      " 9   job          51748 non-null  object \n",
      " 10  last_online  59946 non-null  object \n",
      " 11  location     59946 non-null  object \n",
      " 12  offspring    24385 non-null  object \n",
      " 13  orientation  59946 non-null  object \n",
      " 14  pets         40025 non-null  object \n",
      " 15  religion     39720 non-null  object \n",
      " 16  sex          59946 non-null  object \n",
      " 17  sign         48890 non-null  object \n",
      " 18  smokes       54434 non-null  object \n",
      " 19  speaks       59896 non-null  object \n",
      " 20  status       59946 non-null  object \n",
      "dtypes: float64(1), int64(2), object(18)\n",
      "memory usage: 9.6+ MB\n"
     ]
    }
   ],
   "source": [
    "features.info()"
   ]
  },
  {
   "cell_type": "code",
   "execution_count": 6,
   "metadata": {},
   "outputs": [
    {
     "name": "stdout",
     "output_type": "stream",
     "text": [
      "age\n",
      "Missing values: 0\n",
      "Percentage missing values:  0.00% \n",
      "\n",
      "body_type\n",
      "Missing values: 5296\n",
      "Percentage missing values:  8.83% \n",
      "\n",
      "diet\n",
      "Missing values: 24395\n",
      "Percentage missing values:  40.69% \n",
      "\n",
      "drinks\n",
      "Missing values: 2985\n",
      "Percentage missing values:  4.98% \n",
      "\n",
      "drugs\n",
      "Missing values: 14080\n",
      "Percentage missing values:  23.49% \n",
      "\n",
      "education\n",
      "Missing values: 6628\n",
      "Percentage missing values:  11.06% \n",
      "\n",
      "ethnicity\n",
      "Missing values: 5680\n",
      "Percentage missing values:  9.48% \n",
      "\n",
      "height\n",
      "Missing values: 3\n",
      "Percentage missing values:  0.01% \n",
      "\n",
      "income\n",
      "Missing values: 0\n",
      "Percentage missing values:  0.00% \n",
      "\n",
      "job\n",
      "Missing values: 8198\n",
      "Percentage missing values:  13.68% \n",
      "\n",
      "last_online\n",
      "Missing values: 0\n",
      "Percentage missing values:  0.00% \n",
      "\n",
      "location\n",
      "Missing values: 0\n",
      "Percentage missing values:  0.00% \n",
      "\n",
      "offspring\n",
      "Missing values: 35561\n",
      "Percentage missing values:  59.32% \n",
      "\n",
      "orientation\n",
      "Missing values: 0\n",
      "Percentage missing values:  0.00% \n",
      "\n",
      "pets\n",
      "Missing values: 19921\n",
      "Percentage missing values:  33.23% \n",
      "\n",
      "religion\n",
      "Missing values: 20226\n",
      "Percentage missing values:  33.74% \n",
      "\n",
      "sex\n",
      "Missing values: 0\n",
      "Percentage missing values:  0.00% \n",
      "\n",
      "sign\n",
      "Missing values: 11056\n",
      "Percentage missing values:  18.44% \n",
      "\n",
      "smokes\n",
      "Missing values: 5512\n",
      "Percentage missing values:  9.19% \n",
      "\n",
      "speaks\n",
      "Missing values: 50\n",
      "Percentage missing values:  0.08% \n",
      "\n",
      "status\n",
      "Missing values: 0\n",
      "Percentage missing values:  0.00% \n",
      "\n"
     ]
    }
   ],
   "source": [
    "for column in features.columns:\n",
    "    print(column)\n",
    "    missing_values = features[column].isna().sum()\n",
    "    print(f'Missing values: {missing_values}')\n",
    "    print(f'Percentage missing values: {missing_values / len(features[column]) : .2%}', '\\n')"
   ]
  },
  {
   "cell_type": "code",
   "execution_count": 7,
   "metadata": {},
   "outputs": [],
   "source": [
    "features = features.drop('offspring', axis=1)"
   ]
  },
  {
   "cell_type": "code",
   "execution_count": 8,
   "metadata": {},
   "outputs": [],
   "source": [
    "features = features.dropna(subset=['speaks','height'])"
   ]
  },
  {
   "cell_type": "markdown",
   "metadata": {},
   "source": [
    "### Body type"
   ]
  },
  {
   "cell_type": "markdown",
   "metadata": {},
   "source": [
    "This values are categorical, and can be filled with the most common category. There are also a lot of different categories, so I will group them to reduce dimensionality, and in further steps, these will be encoded using ono-hot encoding."
   ]
  },
  {
   "cell_type": "markdown",
   "metadata": {},
   "source": [
    "| New category | Old categories | \n",
    "| --- | --- |\n",
    "| thin | this, skinny, used up |\n",
    "| average | average |\n",
    "| fit | fit, athletic, jacked |\n",
    "| curvy | curvy, a little extra, full figured, overweight |\n",
    "| rather not say | rather not say |"
   ]
  },
  {
   "cell_type": "code",
   "execution_count": 9,
   "metadata": {},
   "outputs": [
    {
     "data": {
      "text/plain": [
       "average           14643\n",
       "fit               12704\n",
       "athletic          11809\n",
       "thin               4706\n",
       "curvy              3923\n",
       "a little extra     2626\n",
       "skinny             1774\n",
       "full figured       1008\n",
       "overweight          443\n",
       "jacked              421\n",
       "used up             355\n",
       "rather not say      194\n",
       "Name: body_type, dtype: int64"
      ]
     },
     "execution_count": 9,
     "metadata": {},
     "output_type": "execute_result"
    }
   ],
   "source": [
    "features['body_type'].value_counts()"
   ]
  },
  {
   "cell_type": "code",
   "execution_count": 10,
   "metadata": {},
   "outputs": [],
   "source": [
    "#Fill missing values with mode\n",
    "features['body_type'] = features['body_type'].fillna('average')\n",
    "#Reorder categories\n",
    "def reorder_body_type(x):\n",
    "    if x in ('thin', 'skinny', 'used up'):\n",
    "        return 'thin'\n",
    "    elif x in ('average', 'rather not say'):\n",
    "        return x\n",
    "    elif x in ('fit', 'athletic', 'jacked'):\n",
    "        return 'fit'\n",
    "    else:\n",
    "        return 'curvy'\n",
    "features['body_type'] = features['body_type'].apply(reorder_body_type)"
   ]
  },
  {
   "cell_type": "markdown",
   "metadata": {},
   "source": [
    "### Diet"
   ]
  },
  {
   "cell_type": "markdown",
   "metadata": {},
   "source": [
    "Fill missing values with 'anything', assuming that if this was important (or respondent had special needs), people would have filled with appropriate value. There are a lot of categories, in order to reduce complexity, I am going to create new categories from the old values as follows:"
   ]
  },
  {
   "cell_type": "markdown",
   "metadata": {},
   "source": [
    "| New category | Old categories | \n",
    "| --- | --- |\n",
    "| anything | 'mostly anything', 'anything', 'strictly anything' |\n",
    "| vegetarian | 'mostly vegetarian', 'strictly vegetarian', 'vegetarian' |\n",
    "| vegan | 'mostly vegan', 'strictly vegan', 'vegan' |\n",
    "| special | 'mostly kosher', 'mostly halal', 'strictly halal', 'strictly kosher', 'halal', 'kosher' |\n",
    "| other | 'mostly other', 'strictly other', 'other' |"
   ]
  },
  {
   "cell_type": "code",
   "execution_count": 11,
   "metadata": {},
   "outputs": [
    {
     "data": {
      "text/plain": [
       "mostly anything        16577\n",
       "anything                6179\n",
       "strictly anything       5110\n",
       "mostly vegetarian       3440\n",
       "mostly other            1007\n",
       "strictly vegetarian      875\n",
       "vegetarian               666\n",
       "strictly other           451\n",
       "mostly vegan             338\n",
       "other                    331\n",
       "strictly vegan           228\n",
       "vegan                    136\n",
       "mostly kosher             86\n",
       "mostly halal              48\n",
       "strictly halal            18\n",
       "strictly kosher           18\n",
       "halal                     11\n",
       "kosher                    11\n",
       "Name: diet, dtype: int64"
      ]
     },
     "execution_count": 11,
     "metadata": {},
     "output_type": "execute_result"
    }
   ],
   "source": [
    "features['diet'].value_counts()"
   ]
  },
  {
   "cell_type": "code",
   "execution_count": 12,
   "metadata": {},
   "outputs": [],
   "source": [
    "features['diet'] = features['diet'].fillna('anything')"
   ]
  },
  {
   "cell_type": "code",
   "execution_count": 13,
   "metadata": {},
   "outputs": [],
   "source": [
    "def new_diet_categories(diet):\n",
    "    if diet in ['mostly anything', 'anything', 'strictly anything']:\n",
    "        return 'anything'\n",
    "    elif diet in ['mostly vegetarian', 'strictly vegetarian', 'vegetarian']:\n",
    "        return 'vegetarian'\n",
    "    elif diet in ['mostly vegan', 'strictly vegan', 'vegan']:\n",
    "        return 'vegan'\n",
    "    elif diet in ['mostly kosher', 'mostly halal', 'strictly halal', 'strictly kosher', 'halal', 'kosher']:\n",
    "        return 'special'\n",
    "    else:\n",
    "        return 'other'\n",
    "features['diet'] = features['diet'].apply(new_diet_categories)"
   ]
  },
  {
   "cell_type": "markdown",
   "metadata": {},
   "source": [
    "### Drinks"
   ]
  },
  {
   "cell_type": "markdown",
   "metadata": {},
   "source": [
    "Replace missing values with the mode"
   ]
  },
  {
   "cell_type": "code",
   "execution_count": 14,
   "metadata": {},
   "outputs": [
    {
     "data": {
      "text/plain": [
       "socially       41750\n",
       "rarely          5954\n",
       "often           5161\n",
       "not at all      3266\n",
       "very often       470\n",
       "desperately      322\n",
       "Name: drinks, dtype: int64"
      ]
     },
     "execution_count": 14,
     "metadata": {},
     "output_type": "execute_result"
    }
   ],
   "source": [
    "features.drinks.value_counts()"
   ]
  },
  {
   "cell_type": "code",
   "execution_count": 15,
   "metadata": {},
   "outputs": [],
   "source": [
    "features['drinks'] = features['drinks'].fillna('socially')"
   ]
  },
  {
   "cell_type": "markdown",
   "metadata": {},
   "source": [
    "### Drugs"
   ]
  },
  {
   "cell_type": "markdown",
   "metadata": {},
   "source": [
    "Replace missing values with the mode"
   ]
  },
  {
   "cell_type": "code",
   "execution_count": 16,
   "metadata": {},
   "outputs": [
    {
     "data": {
      "text/plain": [
       "never        37700\n",
       "sometimes     7730\n",
       "often          410\n",
       "Name: drugs, dtype: int64"
      ]
     },
     "execution_count": 16,
     "metadata": {},
     "output_type": "execute_result"
    }
   ],
   "source": [
    "features.drugs.value_counts()"
   ]
  },
  {
   "cell_type": "code",
   "execution_count": 17,
   "metadata": {},
   "outputs": [],
   "source": [
    "features['drugs'] = features['drugs'].fillna('never')"
   ]
  },
  {
   "cell_type": "markdown",
   "metadata": {},
   "source": [
    "### Education"
   ]
  },
  {
   "cell_type": "markdown",
   "metadata": {},
   "source": [
    "Replace missing values with the mode. This column has a lot of categories, and I can't think of some logical groupping for all the different categories. Therefore, I will use Binary Encoding for this column, which will keep all the categories and transform them into a binary representation (encoding will be done in another step)."
   ]
  },
  {
   "cell_type": "code",
   "execution_count": 18,
   "metadata": {},
   "outputs": [
    {
     "data": {
      "text/plain": [
       "graduated from college/university    23938\n",
       "graduated from masters program        8950\n",
       "working on college/university         5712\n",
       "working on masters program            1682\n",
       "graduated from two-year college       1531\n",
       "graduated from high school            1428\n",
       "graduated from ph.d program           1270\n",
       "graduated from law school             1122\n",
       "working on two-year college           1073\n",
       "dropped out of college/university      995\n",
       "working on ph.d program                983\n",
       "college/university                     801\n",
       "graduated from space camp              657\n",
       "dropped out of space camp              523\n",
       "graduated from med school              446\n",
       "working on space camp                  445\n",
       "working on law school                  269\n",
       "two-year college                       222\n",
       "working on med school                  211\n",
       "dropped out of two-year college        191\n",
       "dropped out of masters program         140\n",
       "masters program                        136\n",
       "dropped out of ph.d program            127\n",
       "dropped out of high school             102\n",
       "high school                             96\n",
       "working on high school                  87\n",
       "space camp                              58\n",
       "ph.d program                            26\n",
       "law school                              19\n",
       "dropped out of law school               18\n",
       "dropped out of med school               12\n",
       "med school                              11\n",
       "Name: education, dtype: int64"
      ]
     },
     "execution_count": 18,
     "metadata": {},
     "output_type": "execute_result"
    }
   ],
   "source": [
    "features.education.value_counts()"
   ]
  },
  {
   "cell_type": "code",
   "execution_count": 19,
   "metadata": {},
   "outputs": [],
   "source": [
    "features.education = features.education.fillna('graduated from college/university')"
   ]
  },
  {
   "cell_type": "markdown",
   "metadata": {},
   "source": [
    "### Ethnicity"
   ]
  },
  {
   "cell_type": "markdown",
   "metadata": {},
   "source": [
    "This column also had a lot of categories, which I grouped into fewer classes, but in doing so I changed the relative frequencies of the original types, putting `other` in second place while it was the fifth most common category before the transformation"
   ]
  },
  {
   "cell_type": "code",
   "execution_count": 20,
   "metadata": {},
   "outputs": [
    {
     "data": {
      "text/plain": [
       "white                                                                 32799\n",
       "asian                                                                  6133\n",
       "hispanic / latin                                                       2821\n",
       "black                                                                  2006\n",
       "other                                                                  1702\n",
       "                                                                      ...  \n",
       "middle eastern, indian, white                                             1\n",
       "asian, middle eastern, black, white, other                                1\n",
       "asian, middle eastern, indian, hispanic / latin, white, other             1\n",
       "black, native american, indian, pacific islander, hispanic / latin        1\n",
       "asian, black, indian                                                      1\n",
       "Name: ethnicity, Length: 217, dtype: int64"
      ]
     },
     "execution_count": 20,
     "metadata": {},
     "output_type": "execute_result"
    }
   ],
   "source": [
    "features.ethnicity.value_counts()"
   ]
  },
  {
   "cell_type": "code",
   "execution_count": 21,
   "metadata": {},
   "outputs": [
    {
     "data": {
      "text/plain": [
       "white               32799\n",
       "other               16134\n",
       "asian                6133\n",
       "hispanic / latin     2821\n",
       "black                2006\n",
       "Name: ethnicity, dtype: int64"
      ]
     },
     "execution_count": 21,
     "metadata": {},
     "output_type": "execute_result"
    }
   ],
   "source": [
    "ethnic_groups = ['white','asian','hispanic / latin','black','other']\n",
    "features.ethnicity = features.ethnicity.apply(lambda x: x if x in ethnic_groups else 'other')\n",
    "features.ethnicity.value_counts()"
   ]
  },
  {
   "cell_type": "markdown",
   "metadata": {},
   "source": [
    "### Job"
   ]
  },
  {
   "cell_type": "markdown",
   "metadata": {},
   "source": [
    "This column will also be filled with the mode. Since the number of categories is high, I don't find any obvious groupings, and it doesn't make sense to encode them into ordinal numbers, I will use another type of encoder called binary encoder for this column (this will be done in the feature engineering step)"
   ]
  },
  {
   "cell_type": "code",
   "execution_count": 22,
   "metadata": {},
   "outputs": [
    {
     "data": {
      "text/plain": [
       "other                                7587\n",
       "student                              4880\n",
       "science / tech / engineering         4844\n",
       "computer / hardware / software       4707\n",
       "artistic / musical / writer          4436\n",
       "sales / marketing / biz dev          4385\n",
       "medicine / health                    3675\n",
       "education / academia                 3511\n",
       "executive / management               2368\n",
       "banking / financial / real estate    2264\n",
       "entertainment / media                2250\n",
       "law / legal services                 1381\n",
       "hospitality / travel                 1363\n",
       "construction / craftsmanship         1021\n",
       "clerical / administrative             805\n",
       "political / government                707\n",
       "rather not say                        436\n",
       "transportation                        366\n",
       "unemployed                            273\n",
       "retired                               250\n",
       "military                              204\n",
       "Name: job, dtype: int64"
      ]
     },
     "execution_count": 22,
     "metadata": {},
     "output_type": "execute_result"
    }
   ],
   "source": [
    "features.job.value_counts()"
   ]
  },
  {
   "cell_type": "code",
   "execution_count": 23,
   "metadata": {},
   "outputs": [],
   "source": [
    "features.job = features.job.fillna('other')"
   ]
  },
  {
   "cell_type": "markdown",
   "metadata": {},
   "source": [
    "### Pets"
   ]
  },
  {
   "cell_type": "markdown",
   "metadata": {},
   "source": [
    "`pets` was also filled with the mode. In this case, I will derive 3 new columns to capture the information contained in the original `pets`. This will not require further encoding."
   ]
  },
  {
   "cell_type": "code",
   "execution_count": 24,
   "metadata": {},
   "outputs": [
    {
     "data": {
      "text/plain": [
       "likes dogs and likes cats          14806\n",
       "likes dogs                          7220\n",
       "likes dogs and has cats             4311\n",
       "has dogs                            4133\n",
       "has dogs and likes cats             2331\n",
       "likes dogs and dislikes cats        2029\n",
       "has dogs and has cats               1474\n",
       "has cats                            1403\n",
       "likes cats                          1061\n",
       "has dogs and dislikes cats           552\n",
       "dislikes dogs and likes cats         240\n",
       "dislikes dogs and dislikes cats      196\n",
       "dislikes cats                        122\n",
       "dislikes dogs and has cats            81\n",
       "dislikes dogs                         44\n",
       "Name: pets, dtype: int64"
      ]
     },
     "execution_count": 24,
     "metadata": {},
     "output_type": "execute_result"
    }
   ],
   "source": [
    "features.pets.value_counts()"
   ]
  },
  {
   "cell_type": "code",
   "execution_count": 25,
   "metadata": {},
   "outputs": [],
   "source": [
    "features.pets = features.pets.fillna('likes dogs and likes cats')\n",
    "#pets_likes_dogs\n",
    "features['pets_likes_dogs'] = features['pets'].apply(lambda x: 1 if 'likes dogs' in x else 0)\n",
    "#pets_likes_cats\n",
    "features['pets_likes_cats'] = features['pets'].apply(lambda x: 1 if 'likes cats' in x else 0)\n",
    "#has_pets\n",
    "features['has_pets'] = features['pets'].apply(lambda x: 1 if 'has' in x else 0)\n",
    "features = features.drop('pets', axis=1)"
   ]
  },
  {
   "cell_type": "markdown",
   "metadata": {},
   "source": [
    "### Religion"
   ]
  },
  {
   "cell_type": "markdown",
   "metadata": {},
   "source": [
    "There are 20226 missing values in `religion`, and the categories are all evenly distributed, so if the column is filled with the mode, the original values in the column will be heavily distorted.\n",
    "After some consideration, I decided to drop the column because null values cannot be filled without skewing too much the distribution of the values, and dropping null values would drop many rows."
   ]
  },
  {
   "cell_type": "code",
   "execution_count": 26,
   "metadata": {},
   "outputs": [
    {
     "data": {
      "text/plain": [
       "20213"
      ]
     },
     "execution_count": 26,
     "metadata": {},
     "output_type": "execute_result"
    }
   ],
   "source": [
    "features.religion.isna().sum()"
   ]
  },
  {
   "cell_type": "code",
   "execution_count": 27,
   "metadata": {},
   "outputs": [
    {
     "data": {
      "text/plain": [
       "agnosticism                                   2716\n",
       "other                                         2680\n",
       "agnosticism but not too serious about it      2634\n",
       "agnosticism and laughing about it             2495\n",
       "catholicism but not too serious about it      2317\n",
       "atheism                                       2173\n",
       "other and laughing about it                   2118\n",
       "atheism and laughing about it                 2074\n",
       "christianity                                  1953\n",
       "christianity but not too serious about it     1951\n",
       "other but not too serious about it            1553\n",
       "judaism but not too serious about it          1517\n",
       "atheism but not too serious about it          1318\n",
       "catholicism                                   1061\n",
       "christianity and somewhat serious about it     927\n",
       "atheism and somewhat serious about it          848\n",
       "other and somewhat serious about it            846\n",
       "catholicism and laughing about it              726\n",
       "judaism and laughing about it                  680\n",
       "buddhism but not too serious about it          650\n",
       "agnosticism and somewhat serious about it      641\n",
       "judaism                                        611\n",
       "christianity and very serious about it         578\n",
       "atheism and very serious about it              570\n",
       "catholicism and somewhat serious about it      548\n",
       "other and very serious about it                533\n",
       "buddhism and laughing about it                 466\n",
       "buddhism                                       403\n",
       "christianity and laughing about it             373\n",
       "buddhism and somewhat serious about it         359\n",
       "agnosticism and very serious about it          314\n",
       "judaism and somewhat serious about it          266\n",
       "hinduism but not too serious about it          227\n",
       "hinduism                                       106\n",
       "catholicism and very serious about it          101\n",
       "buddhism and very serious about it              70\n",
       "hinduism and somewhat serious about it          58\n",
       "islam                                           48\n",
       "hinduism and laughing about it                  44\n",
       "islam but not too serious about it              40\n",
       "judaism and very serious about it               22\n",
       "islam and somewhat serious about it             22\n",
       "islam and laughing about it                     16\n",
       "hinduism and very serious about it              14\n",
       "islam and very serious about it                 13\n",
       "Name: religion, dtype: int64"
      ]
     },
     "execution_count": 27,
     "metadata": {},
     "output_type": "execute_result"
    }
   ],
   "source": [
    "features.religion.value_counts()"
   ]
  },
  {
   "cell_type": "code",
   "execution_count": 28,
   "metadata": {},
   "outputs": [],
   "source": [
    "features = features.drop('religion', axis=1)"
   ]
  },
  {
   "cell_type": "markdown",
   "metadata": {},
   "source": [
    "### Sign"
   ]
  },
  {
   "cell_type": "markdown",
   "metadata": {},
   "source": [
    "There are a lot of different categories in this column, I could use another binary encoding but I will try to instead derive part of the information contained in this column, by creating another column that only states the importance of zodiac signs to the responder"
   ]
  },
  {
   "cell_type": "code",
   "execution_count": 29,
   "metadata": {},
   "outputs": [
    {
     "data": {
      "text/plain": [
       "gemini and it&rsquo;s fun to think about         1781\n",
       "scorpio and it&rsquo;s fun to think about        1770\n",
       "leo and it&rsquo;s fun to think about            1690\n",
       "libra and it&rsquo;s fun to think about          1648\n",
       "taurus and it&rsquo;s fun to think about         1638\n",
       "cancer and it&rsquo;s fun to think about         1597\n",
       "pisces and it&rsquo;s fun to think about         1592\n",
       "sagittarius and it&rsquo;s fun to think about    1581\n",
       "aries and it&rsquo;s fun to think about          1573\n",
       "virgo and it&rsquo;s fun to think about          1573\n",
       "aquarius and it&rsquo;s fun to think about       1503\n",
       "virgo but it doesn&rsquo;t matter                1497\n",
       "leo but it doesn&rsquo;t matter                  1456\n",
       "cancer but it doesn&rsquo;t matter               1453\n",
       "gemini but it doesn&rsquo;t matter               1453\n",
       "taurus but it doesn&rsquo;t matter               1450\n",
       "libra but it doesn&rsquo;t matter                1408\n",
       "aquarius but it doesn&rsquo;t matter             1407\n",
       "sagittarius but it doesn&rsquo;t matter          1375\n",
       "capricorn and it&rsquo;s fun to think about      1375\n",
       "aries but it doesn&rsquo;t matter                1372\n",
       "capricorn but it doesn&rsquo;t matter            1319\n",
       "pisces but it doesn&rsquo;t matter               1299\n",
       "scorpio but it doesn&rsquo;t matter              1263\n",
       "leo                                              1158\n",
       "libra                                            1096\n",
       "cancer                                           1092\n",
       "virgo                                            1028\n",
       "scorpio                                          1019\n",
       "gemini                                           1013\n",
       "taurus                                           1001\n",
       "aries                                             995\n",
       "pisces                                            989\n",
       "aquarius                                          953\n",
       "sagittarius                                       935\n",
       "capricorn                                         833\n",
       "scorpio and it matters a lot                       78\n",
       "leo and it matters a lot                           66\n",
       "cancer and it matters a lot                        63\n",
       "aquarius and it matters a lot                      63\n",
       "pisces and it matters a lot                        62\n",
       "gemini and it matters a lot                        62\n",
       "libra and it matters a lot                         52\n",
       "taurus and it matters a lot                        48\n",
       "aries and it matters a lot                         47\n",
       "sagittarius and it matters a lot                   47\n",
       "capricorn and it matters a lot                     45\n",
       "virgo and it matters a lot                         41\n",
       "Name: sign, dtype: int64"
      ]
     },
     "execution_count": 29,
     "metadata": {},
     "output_type": "execute_result"
    }
   ],
   "source": [
    "features.sign.value_counts()"
   ]
  },
  {
   "cell_type": "code",
   "execution_count": 30,
   "metadata": {},
   "outputs": [],
   "source": [
    "features.sign = features.sign.fillna(0)"
   ]
  },
  {
   "cell_type": "code",
   "execution_count": 31,
   "metadata": {},
   "outputs": [],
   "source": [
    "def zodiac_matters(x):\n",
    "    if x == 0:\n",
    "        return 0\n",
    "    lst = x.split()\n",
    "    if len(lst) == 1 or 'matters a lot' in x:\n",
    "        return 1\n",
    "    return 0\n",
    "features.sign = features.sign.apply(zodiac_matters)"
   ]
  },
  {
   "cell_type": "markdown",
   "metadata": {},
   "source": [
    "### Smokes"
   ]
  },
  {
   "cell_type": "markdown",
   "metadata": {},
   "source": [
    "Just fill with the mode"
   ]
  },
  {
   "cell_type": "code",
   "execution_count": 32,
   "metadata": {},
   "outputs": [
    {
     "data": {
      "text/plain": [
       "no                43856\n",
       "sometimes          3785\n",
       "when drinking      3040\n",
       "yes                2228\n",
       "trying to quit     1477\n",
       "Name: smokes, dtype: int64"
      ]
     },
     "execution_count": 32,
     "metadata": {},
     "output_type": "execute_result"
    }
   ],
   "source": [
    "features.smokes.value_counts()"
   ]
  },
  {
   "cell_type": "code",
   "execution_count": 33,
   "metadata": {},
   "outputs": [],
   "source": [
    "features.smokes = features.smokes.fillna('no')"
   ]
  },
  {
   "cell_type": "markdown",
   "metadata": {},
   "source": [
    "### Age\n",
    "This starts the analysis of the columns that were complete, as above, I will go through every column to see if there are things that need to be changed. \n",
    "In particular, for the age column we see there are a couple entries where the answer is above 100, we will drop these assuming they were mistakes."
   ]
  },
  {
   "cell_type": "code",
   "execution_count": 34,
   "metadata": {},
   "outputs": [
    {
     "data": {
      "text/plain": [
       "count    59893.000000\n",
       "mean        32.336083\n",
       "std          9.452751\n",
       "min         18.000000\n",
       "25%         26.000000\n",
       "50%         30.000000\n",
       "75%         37.000000\n",
       "max        110.000000\n",
       "Name: age, dtype: float64"
      ]
     },
     "execution_count": 34,
     "metadata": {},
     "output_type": "execute_result"
    }
   ],
   "source": [
    "features.age.describe()"
   ]
  },
  {
   "cell_type": "code",
   "execution_count": 35,
   "metadata": {},
   "outputs": [
    {
     "data": {
      "text/html": [
       "<div>\n",
       "<style scoped>\n",
       "    .dataframe tbody tr th:only-of-type {\n",
       "        vertical-align: middle;\n",
       "    }\n",
       "\n",
       "    .dataframe tbody tr th {\n",
       "        vertical-align: top;\n",
       "    }\n",
       "\n",
       "    .dataframe thead th {\n",
       "        text-align: right;\n",
       "    }\n",
       "</style>\n",
       "<table border=\"1\" class=\"dataframe\">\n",
       "  <thead>\n",
       "    <tr style=\"text-align: right;\">\n",
       "      <th></th>\n",
       "      <th>age</th>\n",
       "      <th>body_type</th>\n",
       "      <th>diet</th>\n",
       "      <th>drinks</th>\n",
       "      <th>drugs</th>\n",
       "      <th>education</th>\n",
       "      <th>ethnicity</th>\n",
       "      <th>height</th>\n",
       "      <th>income</th>\n",
       "      <th>job</th>\n",
       "      <th>...</th>\n",
       "      <th>location</th>\n",
       "      <th>orientation</th>\n",
       "      <th>sex</th>\n",
       "      <th>sign</th>\n",
       "      <th>smokes</th>\n",
       "      <th>speaks</th>\n",
       "      <th>status</th>\n",
       "      <th>pets_likes_dogs</th>\n",
       "      <th>pets_likes_cats</th>\n",
       "      <th>has_pets</th>\n",
       "    </tr>\n",
       "  </thead>\n",
       "  <tbody>\n",
       "    <tr>\n",
       "      <th>2512</th>\n",
       "      <td>110</td>\n",
       "      <td>average</td>\n",
       "      <td>anything</td>\n",
       "      <td>socially</td>\n",
       "      <td>never</td>\n",
       "      <td>graduated from college/university</td>\n",
       "      <td>other</td>\n",
       "      <td>67.0</td>\n",
       "      <td>-1</td>\n",
       "      <td>other</td>\n",
       "      <td>...</td>\n",
       "      <td>daly city, california</td>\n",
       "      <td>straight</td>\n",
       "      <td>f</td>\n",
       "      <td>0</td>\n",
       "      <td>no</td>\n",
       "      <td>english</td>\n",
       "      <td>single</td>\n",
       "      <td>1</td>\n",
       "      <td>1</td>\n",
       "      <td>0</td>\n",
       "    </tr>\n",
       "    <tr>\n",
       "      <th>25324</th>\n",
       "      <td>109</td>\n",
       "      <td>fit</td>\n",
       "      <td>other</td>\n",
       "      <td>socially</td>\n",
       "      <td>never</td>\n",
       "      <td>working on masters program</td>\n",
       "      <td>other</td>\n",
       "      <td>95.0</td>\n",
       "      <td>-1</td>\n",
       "      <td>student</td>\n",
       "      <td>...</td>\n",
       "      <td>san francisco, california</td>\n",
       "      <td>straight</td>\n",
       "      <td>m</td>\n",
       "      <td>0</td>\n",
       "      <td>when drinking</td>\n",
       "      <td>english (okay)</td>\n",
       "      <td>available</td>\n",
       "      <td>1</td>\n",
       "      <td>1</td>\n",
       "      <td>0</td>\n",
       "    </tr>\n",
       "  </tbody>\n",
       "</table>\n",
       "<p>2 rows × 21 columns</p>\n",
       "</div>"
      ],
      "text/plain": [
       "       age body_type      diet    drinks  drugs  \\\n",
       "2512   110   average  anything  socially  never   \n",
       "25324  109       fit     other  socially  never   \n",
       "\n",
       "                               education ethnicity  height  income      job  \\\n",
       "2512   graduated from college/university     other    67.0      -1    other   \n",
       "25324         working on masters program     other    95.0      -1  student   \n",
       "\n",
       "       ...                   location orientation sex sign         smokes  \\\n",
       "2512   ...      daly city, california    straight   f    0             no   \n",
       "25324  ...  san francisco, california    straight   m    0  when drinking   \n",
       "\n",
       "               speaks     status pets_likes_dogs  pets_likes_cats  has_pets  \n",
       "2512          english     single               1                1         0  \n",
       "25324  english (okay)  available               1                1         0  \n",
       "\n",
       "[2 rows x 21 columns]"
      ]
     },
     "execution_count": 35,
     "metadata": {},
     "output_type": "execute_result"
    }
   ],
   "source": [
    "features[ features['age']>90 ]"
   ]
  },
  {
   "cell_type": "code",
   "execution_count": 36,
   "metadata": {},
   "outputs": [],
   "source": [
    "features = features[features['age']<= 90]"
   ]
  },
  {
   "cell_type": "markdown",
   "metadata": {},
   "source": [
    "### Income\n",
    "This column was interesting. Despite being complete, most of the information is missing from this column. `80%` of respondents gave an answer of `-1`, which is akin to not responding at all and because of this the column will have to be dropped, due to lack of information "
   ]
  },
  {
   "cell_type": "code",
   "execution_count": 37,
   "metadata": {},
   "outputs": [
    {
     "data": {
      "text/plain": [
       "-1          48392\n",
       " 20000       2952\n",
       " 100000      1617\n",
       " 80000       1111\n",
       " 30000       1048\n",
       " 40000       1005\n",
       " 50000        974\n",
       " 60000        736\n",
       " 70000        707\n",
       " 150000       631\n",
       " 1000000      521\n",
       " 250000       149\n",
       " 500000        48\n",
       "Name: income, dtype: int64"
      ]
     },
     "execution_count": 37,
     "metadata": {},
     "output_type": "execute_result"
    }
   ],
   "source": [
    "features['income'].value_counts()"
   ]
  },
  {
   "cell_type": "code",
   "execution_count": 38,
   "metadata": {},
   "outputs": [
    {
     "name": "stdout",
     "output_type": "stream",
     "text": [
      "80.54% \"missing\" answers\n"
     ]
    }
   ],
   "source": [
    "percentage_missing =  48237 / len(features.income)\n",
    "print(f'{percentage_missing:.2%} \"missing\" answers')"
   ]
  },
  {
   "cell_type": "code",
   "execution_count": 39,
   "metadata": {},
   "outputs": [],
   "source": [
    "#This column is not usable\n",
    "features = features.drop('income', axis=1)"
   ]
  },
  {
   "cell_type": "markdown",
   "metadata": {},
   "source": [
    "### Location\n",
    "I will drop this column also, this time because `99%` of the respondents are from `California`, which means most machine learning algorithms will not be able to derive useful patterns from this variable."
   ]
  },
  {
   "cell_type": "code",
   "execution_count": 40,
   "metadata": {},
   "outputs": [
    {
     "data": {
      "text/plain": [
       "san francisco, california         31028\n",
       "oakland, california                7213\n",
       "berkeley, california               4209\n",
       "san mateo, california              1330\n",
       "palo alto, california              1062\n",
       "                                  ...  \n",
       "south wellfleet, massachusetts        1\n",
       "orange, california                    1\n",
       "astoria, new york                     1\n",
       "london, united kingdom                1\n",
       "rochester, michigan                   1\n",
       "Name: location, Length: 198, dtype: int64"
      ]
     },
     "execution_count": 40,
     "metadata": {},
     "output_type": "execute_result"
    }
   ],
   "source": [
    "features.location.value_counts()"
   ]
  },
  {
   "cell_type": "code",
   "execution_count": 41,
   "metadata": {},
   "outputs": [
    {
     "name": "stdout",
     "output_type": "stream",
     "text": [
      "Percentage of people from California: 99.85%\n"
     ]
    }
   ],
   "source": [
    "people_from_california = features['location'].str.match(\".*california.*\").sum()\n",
    "total_people = len(features['location'])\n",
    "percentage_from_california = people_from_california / total_people\n",
    "print(f'Percentage of people from California: {percentage_from_california:.2%}')"
   ]
  },
  {
   "cell_type": "code",
   "execution_count": 42,
   "metadata": {},
   "outputs": [],
   "source": [
    "features = features.drop('location', axis=1)"
   ]
  },
  {
   "cell_type": "markdown",
   "metadata": {},
   "source": [
    "### Last online\n",
    "I will drop this column, since it is not relevant to the clusters we are trying to make"
   ]
  },
  {
   "cell_type": "code",
   "execution_count": 43,
   "metadata": {},
   "outputs": [],
   "source": [
    "features = features.drop('last_online', axis=1)"
   ]
  },
  {
   "cell_type": "markdown",
   "metadata": {},
   "source": [
    "### Orientation, Sex and Status\n",
    "These columns are complete and have a reasonable number of categories each one, there is no further need of transformation except for the encoding in a future st"
   ]
  },
  {
   "cell_type": "code",
   "execution_count": 44,
   "metadata": {},
   "outputs": [
    {
     "data": {
      "text/plain": [
       "straight    51559\n",
       "gay          5567\n",
       "bisexual     2765\n",
       "Name: orientation, dtype: int64"
      ]
     },
     "execution_count": 44,
     "metadata": {},
     "output_type": "execute_result"
    }
   ],
   "source": [
    "features.orientation.value_counts()"
   ]
  },
  {
   "cell_type": "code",
   "execution_count": 45,
   "metadata": {},
   "outputs": [
    {
     "data": {
      "text/plain": [
       "m    35791\n",
       "f    24100\n",
       "Name: sex, dtype: int64"
      ]
     },
     "execution_count": 45,
     "metadata": {},
     "output_type": "execute_result"
    }
   ],
   "source": [
    "features.sex.value_counts()"
   ]
  },
  {
   "cell_type": "code",
   "execution_count": 46,
   "metadata": {},
   "outputs": [
    {
     "data": {
      "text/plain": [
       "single            55646\n",
       "seeing someone     2064\n",
       "available          1861\n",
       "married             310\n",
       "unknown              10\n",
       "Name: status, dtype: int64"
      ]
     },
     "execution_count": 46,
     "metadata": {},
     "output_type": "execute_result"
    }
   ],
   "source": [
    "features.status.value_counts()"
   ]
  },
  {
   "cell_type": "markdown",
   "metadata": {},
   "source": [
    "### Speaks\n",
    "\n",
    "Virtually all the answer in this column have `english` in them, tehrefore I will derive another column which states if the respondent talks more than one language"
   ]
  },
  {
   "cell_type": "code",
   "execution_count": 47,
   "metadata": {},
   "outputs": [
    {
     "data": {
      "text/plain": [
       "59891"
      ]
     },
     "execution_count": 47,
     "metadata": {},
     "output_type": "execute_result"
    }
   ],
   "source": [
    "features.speaks.str.contains('english').sum()#Rows from people who speak English"
   ]
  },
  {
   "cell_type": "code",
   "execution_count": 48,
   "metadata": {},
   "outputs": [
    {
     "data": {
      "text/plain": [
       "59891"
      ]
     },
     "execution_count": 48,
     "metadata": {},
     "output_type": "execute_result"
    }
   ],
   "source": [
    "len(features.speaks)#Total rows"
   ]
  },
  {
   "cell_type": "code",
   "execution_count": 49,
   "metadata": {},
   "outputs": [
    {
     "data": {
      "text/plain": [
       "english                                                                21826\n",
       "english (fluently)                                                      6627\n",
       "english (fluently), spanish (poorly)                                    2059\n",
       "english (fluently), spanish (okay)                                      1917\n",
       "english (fluently), spanish (fluently)                                  1288\n",
       "                                                                       ...  \n",
       "english (fluently), urdu (poorly), japanese (poorly), french (okay)        1\n",
       "english, spanish, hindi, c++                                               1\n",
       "english (fluently), japanese (okay), thai (okay), chinese (poorly)         1\n",
       "english (fluently), french (okay), italian (okay), hebrew (okay)           1\n",
       "english (fluently), french, farsi                                          1\n",
       "Name: speaks, Length: 7647, dtype: int64"
      ]
     },
     "execution_count": 49,
     "metadata": {},
     "output_type": "execute_result"
    }
   ],
   "source": [
    "features.speaks.value_counts()"
   ]
  },
  {
   "cell_type": "code",
   "execution_count": 50,
   "metadata": {},
   "outputs": [],
   "source": [
    "features['speaks_other_than_english'] = features.speaks.apply(lambda x: 1 if len(x.split()) > 1 else 0)"
   ]
  },
  {
   "cell_type": "code",
   "execution_count": 51,
   "metadata": {},
   "outputs": [
    {
     "data": {
      "text/plain": [
       "1    38065\n",
       "0    21826\n",
       "Name: speaks_other_than_english, dtype: int64"
      ]
     },
     "execution_count": 51,
     "metadata": {},
     "output_type": "execute_result"
    }
   ],
   "source": [
    "features['speaks_other_than_english'].value_counts()"
   ]
  },
  {
   "cell_type": "code",
   "execution_count": 52,
   "metadata": {
    "scrolled": false
   },
   "outputs": [],
   "source": [
    "features = features.drop('speaks', axis=1)"
   ]
  },
  {
   "cell_type": "markdown",
   "metadata": {},
   "source": [
    "<hr>"
   ]
  },
  {
   "cell_type": "markdown",
   "metadata": {},
   "source": [
    "## Feature engineering\n",
    "This step will encode the columns with the correct technique, as assesed earlier. For some columns, we already applied transformations in the step above so there is no need for further processing.\n",
    "I will also scale the columns, in order to be able to perform PCA in a later step"
   ]
  },
  {
   "cell_type": "markdown",
   "metadata": {},
   "source": [
    "#### One-hot encoding\n",
    "These columns were selected above to be changed into numbers using one-hot encoding"
   ]
  },
  {
   "cell_type": "code",
   "execution_count": 53,
   "metadata": {},
   "outputs": [],
   "source": [
    "one_hot_columns = ['body_type', 'diet', 'drinks', 'drugs', 'ethnicity', \\\n",
    "                   'smokes', 'sex', 'status', 'orientation']\n",
    "for col in one_hot_columns:\n",
    "    dummies = pd.get_dummies(features[col], prefix=col, drop_first=True)\n",
    "    features = features.join(dummies)\n",
    "    features = features.drop(col, axis=1)"
   ]
  },
  {
   "cell_type": "markdown",
   "metadata": {},
   "source": [
    "##### Binary encoding\n",
    "This will be useful to encode the `jobs` and `education` columns without creating too much new columns"
   ]
  },
  {
   "cell_type": "code",
   "execution_count": 54,
   "metadata": {},
   "outputs": [],
   "source": [
    "#To see the mapping of the Binary encoder uncomment the lines below\n",
    "\n",
    "#jobs = BinaryEncoder(cols=['job'], drop_invariant=True)\n",
    "#jobs.fit(features['job'])\n",
    "#jobs.transform(features['job'].value_counts().index.to_series(name='job'))"
   ]
  },
  {
   "cell_type": "code",
   "execution_count": 55,
   "metadata": {},
   "outputs": [],
   "source": [
    "#To see the mapping of the Binary encoder uncomment the lines below\n",
    "\n",
    "# jobs = BinaryEncoder(cols=['education'], drop_invariant=True)\n",
    "# jobs.fit(features['education'])\n",
    "# jobs.transform(features['education'].value_counts().index.to_series(name='education'))"
   ]
  },
  {
   "cell_type": "code",
   "execution_count": 56,
   "metadata": {},
   "outputs": [],
   "source": [
    "features = BinaryEncoder(cols=['education','job'], drop_invariant=True).fit_transform(features)\n",
    "# features = features.drop(['education','job'], axis=1)"
   ]
  },
  {
   "cell_type": "markdown",
   "metadata": {},
   "source": [
    "##### Scaling\n",
    "The MinMaxScaler works well in this case because it adjusts the range of the variables between 0 and 1, this is perfect because so far qe have been assigning 0 or 1 to the transformation of the categorical variables (the majority of the columns)"
   ]
  },
  {
   "cell_type": "code",
   "execution_count": 57,
   "metadata": {},
   "outputs": [],
   "source": [
    "scaler = MinMaxScaler()\n",
    "scaled_features = scaler.fit_transform(features)"
   ]
  },
  {
   "cell_type": "markdown",
   "metadata": {},
   "source": [
    "<hr>"
   ]
  },
  {
   "cell_type": "markdown",
   "metadata": {},
   "source": [
    "## Model\n",
    "1. Utilize elbow method to optimize number of clusters\n",
    "2. Use PCA to lower dimensionality and improve performance\n",
    "3. Predict using a new point"
   ]
  },
  {
   "cell_type": "markdown",
   "metadata": {},
   "source": [
    "##### PCA\n",
    "Normally PCA is used to reduce the dimensions of the dataset into only 2, to be able to plot the variables and continue with the analysis. As the analysis is somewhat complete in the above sections, we will proceed to use PCA to reduce the dimensions and hopefully improve the performance of the clustering algorithm. Using the cumulative variance plot, 10 components seems a reasonable number of dimensions to use: it reduces the number of variables from 48 to 10, and it retains almost 98% of the variability of the dataset."
   ]
  },
  {
   "cell_type": "code",
   "execution_count": 58,
   "metadata": {},
   "outputs": [
    {
     "data": {
      "image/png": "[encoded data removed]",
      "text/plain": [
       "<Figure size 500x400 with 1 Axes>"
      ]
     },
     "metadata": {},
     "output_type": "display_data"
    }
   ],
   "source": [
    "pca = PCA()\n",
    "pca.fit(features)\n",
    "plt.figure(figsize=(5,4))\n",
    "plt.plot(range(1,len(features.columns)+1), pca.explained_variance_ratio_.cumsum())\n",
    "plt.title('Cumulative variance plot')\n",
    "plt.xlabel('Number of components')\n",
    "plt.ylabel('Explained variance')\n",
    "plt.show()"
   ]
  },
  {
   "cell_type": "code",
   "execution_count": 59,
   "metadata": {},
   "outputs": [
    {
     "name": "stdout",
     "output_type": "stream",
     "text": [
      "Percentage of variance explained with only 10 components:  97.89%\n"
     ]
    }
   ],
   "source": [
    "suma = 0\n",
    "for i in range(10):\n",
    "    suma += pca.explained_variance_ratio_[i]\n",
    "print(f'Percentage of variance explained with only 10 components: {suma: .2%}')"
   ]
  },
  {
   "cell_type": "code",
   "execution_count": 60,
   "metadata": {},
   "outputs": [],
   "source": [
    "#Setting the components to the parameter defined above\n",
    "pca = PCA(n_components=10)\n",
    "pca.fit(features)\n",
    "new_features = pca.transform(features)"
   ]
  },
  {
   "cell_type": "markdown",
   "metadata": {},
   "source": [
    "##### Elbow method\n",
    "We will now tune the number of clusters used in the algorithm using the elbow method:\n",
    "train a KMeans algorithm with a different value for the hyperparameter (number of clusters) and select a value that is not too high but performs well. 'Performs well' means that the inertia of the clusters is small.\n",
    "\n",
    "Curiously, the plot below shows that 10 is also a good value for the number of clusters, so this is what we will use in the final version of the algorithm"
   ]
  },
  {
   "cell_type": "code",
   "execution_count": 61,
   "metadata": {},
   "outputs": [],
   "source": [
    "#Use the elbow method to determine the optimal number of clusters\n",
    "#It seems that the inertia starts to decrease more slowly at 10 clusters \n",
    "\n",
    "# num_clusters = [x for x in range(1, 55, 3)]\n",
    "# inertias = []\n",
    "# for k in num_clusters:\n",
    "#     model = KMeans(n_clusters=k)\n",
    "#     model.fit(new_features)\n",
    "#     inertias.append(model.inertia_)\n",
    "# plt.plot(num_clusters, inertias, '-o')\n",
    "# plt.xlabel('Number of Clusters (k)')\n",
    "# plt.ylabel('Inertia')\n",
    "# plt.show()"
   ]
  },
  {
   "cell_type": "code",
   "execution_count": 62,
   "metadata": {},
   "outputs": [
    {
     "data": {
      "text/plain": [
       "KMeans(n_clusters=10)"
      ]
     },
     "execution_count": 62,
     "metadata": {},
     "output_type": "execute_result"
    }
   ],
   "source": [
    "#Final, trained (fitted) version of the KMeans algorithm\n",
    "best_num_clusters = 10\n",
    "model = KMeans(n_clusters=best_num_clusters)\n",
    "model.fit(new_features)"
   ]
  },
  {
   "cell_type": "markdown",
   "metadata": {},
   "source": [
    "##### Prediction and recomendation\n",
    "Now, to output a recommendation from this clusters. \n",
    "1. predict cluster labels for the original dataframe, concatenate this new column\n",
    "2. make a prediction of a new point. This will signal the cluster in which this new point belongs\n",
    "3. output a recommendation from the people in the original dataset who are in the same cluster as the new point (are most similar)"
   ]
  },
  {
   "cell_type": "code",
   "execution_count": 63,
   "metadata": {},
   "outputs": [],
   "source": [
    "label = model.predict(new_features)\n",
    "df = df[df.index.isin(features.index)]\n",
    "df['label'] = label.tolist()"
   ]
  },
  {
   "cell_type": "code",
   "execution_count": 64,
   "metadata": {},
   "outputs": [
    {
     "name": "stdout",
     "output_type": "stream",
     "text": [
      "enter value for: age  29\n",
      "enter value for: education_0  0\n",
      "enter value for: education_1  0\n",
      "enter value for: education_2  0\n",
      "enter value for: education_3  1\n",
      "enter value for: education_4  0\n",
      "enter value for: education_5  0\n",
      "enter value for: height  67\n",
      "enter value for: job_0  0\n",
      "enter value for: job_1  0\n",
      "enter value for: job_2  1\n",
      "enter value for: job_3  1\n",
      "enter value for: job_4  1\n",
      "enter value for: sign  0\n",
      "enter value for: pets_likes_dogs  1\n",
      "enter value for: pets_likes_cats  1\n",
      "enter value for: has_pets  1\n",
      "enter value for: speaks_other_than_english  1\n",
      "enter value for: body_type_curvy  0\n",
      "enter value for: body_type_fit  0\n",
      "enter value for: body_type_rather not say  0\n",
      "enter value for: body_type_thin  0\n",
      "enter value for: diet_other  0\n",
      "enter value for: diet_special  0\n",
      "enter value for: diet_vegan  0\n",
      "enter value for: diet_vegetarian  0\n",
      "enter value for: drinks_not at all  0\n",
      "enter value for: drinks_often  0\n",
      "enter value for: drinks_rarely  0\n",
      "enter value for: drinks_socially  1\n",
      "enter value for: drinks_very often  0\n",
      "enter value for: drugs_often  0\n",
      "enter value for: drugs_sometimes  0\n",
      "enter value for: ethnicity_black  0\n",
      "enter value for: ethnicity_hispanic / latin  1\n",
      "enter value for: ethnicity_other  0\n",
      "enter value for: ethnicity_white  0\n",
      "enter value for: smokes_sometimes  0\n",
      "enter value for: smokes_trying to quit  0\n",
      "enter value for: smokes_when drinking  0\n",
      "enter value for: smokes_yes  0\n",
      "enter value for: sex_m  1\n",
      "enter value for: status_married  0\n",
      "enter value for: status_seeing someone  0\n",
      "enter value for: status_single  1\n",
      "enter value for: status_unknown  0\n",
      "enter value for: orientation_gay  0\n",
      "enter value for: orientation_straight  1\n"
     ]
    }
   ],
   "source": [
    "new_point = []\n",
    "for col in features.columns:\n",
    "    value=int(input(f'enter value for: {col}  '))\n",
    "    new_point.append(value)"
   ]
  },
  {
   "cell_type": "code",
   "execution_count": 72,
   "metadata": {},
   "outputs": [
    {
     "name": "stderr",
     "output_type": "stream",
     "text": [
      "/home/fillo/anaconda3/lib/python3.9/site-packages/sklearn/base.py:450: UserWarning: X does not have valid feature names, but MinMaxScaler was fitted with feature names\n",
      "  warnings.warn(\n",
      "/home/fillo/anaconda3/lib/python3.9/site-packages/sklearn/base.py:450: UserWarning: X does not have valid feature names, but PCA was fitted with feature names\n",
      "  warnings.warn(\n"
     ]
    }
   ],
   "source": [
    "new_point = np.array(new_point).reshape(1, 48)\n",
    "new_point = scaler.transform(new_point)\n",
    "pca_new_point = pca.transform(new_point)"
   ]
  },
  {
   "cell_type": "code",
   "execution_count": 77,
   "metadata": {},
   "outputs": [
    {
     "name": "stdout",
     "output_type": "stream",
     "text": [
      "8\n"
     ]
    }
   ],
   "source": [
    "predicted_cluster = model.predict(pca_new_point)[0]\n",
    "print(predicted_cluster)"
   ]
  },
  {
   "cell_type": "code",
   "execution_count": 79,
   "metadata": {},
   "outputs": [
    {
     "data": {
      "text/html": [
       "<div>\n",
       "<style scoped>\n",
       "    .dataframe tbody tr th:only-of-type {\n",
       "        vertical-align: middle;\n",
       "    }\n",
       "\n",
       "    .dataframe tbody tr th {\n",
       "        vertical-align: top;\n",
       "    }\n",
       "\n",
       "    .dataframe thead th {\n",
       "        text-align: right;\n",
       "    }\n",
       "</style>\n",
       "<table border=\"1\" class=\"dataframe\">\n",
       "  <thead>\n",
       "    <tr style=\"text-align: right;\">\n",
       "      <th></th>\n",
       "      <th>age</th>\n",
       "      <th>body_type</th>\n",
       "      <th>diet</th>\n",
       "      <th>drinks</th>\n",
       "      <th>drugs</th>\n",
       "      <th>education</th>\n",
       "      <th>essay0</th>\n",
       "      <th>essay1</th>\n",
       "      <th>essay2</th>\n",
       "      <th>essay3</th>\n",
       "      <th>...</th>\n",
       "      <th>offspring</th>\n",
       "      <th>orientation</th>\n",
       "      <th>pets</th>\n",
       "      <th>religion</th>\n",
       "      <th>sex</th>\n",
       "      <th>sign</th>\n",
       "      <th>smokes</th>\n",
       "      <th>speaks</th>\n",
       "      <th>status</th>\n",
       "      <th>label</th>\n",
       "    </tr>\n",
       "  </thead>\n",
       "  <tbody>\n",
       "    <tr>\n",
       "      <th>8</th>\n",
       "      <td>24</td>\n",
       "      <td>NaN</td>\n",
       "      <td>strictly anything</td>\n",
       "      <td>socially</td>\n",
       "      <td>NaN</td>\n",
       "      <td>graduated from college/university</td>\n",
       "      <td>NaN</td>\n",
       "      <td>oh goodness. at the moment i have 4 jobs, so i...</td>\n",
       "      <td>NaN</td>\n",
       "      <td>i'm freakishly blonde and have the same name a...</td>\n",
       "      <td>...</td>\n",
       "      <td>doesn&amp;rsquo;t have kids</td>\n",
       "      <td>straight</td>\n",
       "      <td>likes dogs and likes cats</td>\n",
       "      <td>christianity but not too serious about it</td>\n",
       "      <td>f</td>\n",
       "      <td>gemini but it doesn&amp;rsquo;t matter</td>\n",
       "      <td>when drinking</td>\n",
       "      <td>english</td>\n",
       "      <td>single</td>\n",
       "      <td>8</td>\n",
       "    </tr>\n",
       "    <tr>\n",
       "      <th>17</th>\n",
       "      <td>26</td>\n",
       "      <td>average</td>\n",
       "      <td>NaN</td>\n",
       "      <td>socially</td>\n",
       "      <td>never</td>\n",
       "      <td>working on college/university</td>\n",
       "      <td>to sum myself in whole: i have adventurous ten...</td>\n",
       "      <td>i'm currently studying and majoring in crimina...</td>\n",
       "      <td>hmm...i know i can take a test rather well.;) ...</td>\n",
       "      <td>physically-i've been told my eyes. people usua...</td>\n",
       "      <td>...</td>\n",
       "      <td>doesn&amp;rsquo;t have kids</td>\n",
       "      <td>straight</td>\n",
       "      <td>NaN</td>\n",
       "      <td>NaN</td>\n",
       "      <td>f</td>\n",
       "      <td>aries and it&amp;rsquo;s fun to think about</td>\n",
       "      <td>no</td>\n",
       "      <td>english</td>\n",
       "      <td>single</td>\n",
       "      <td>8</td>\n",
       "    </tr>\n",
       "    <tr>\n",
       "      <th>21</th>\n",
       "      <td>22</td>\n",
       "      <td>athletic</td>\n",
       "      <td>NaN</td>\n",
       "      <td>socially</td>\n",
       "      <td>never</td>\n",
       "      <td>working on college/university</td>\n",
       "      <td>my name is ashley and i live in san francisco....</td>\n",
       "      <td>i just graduated from usf with a major in inte...</td>\n",
       "      <td>NaN</td>\n",
       "      <td>my smile. my eyes, and my hair apparently.</td>\n",
       "      <td>...</td>\n",
       "      <td>doesn&amp;rsquo;t have kids, but might want them</td>\n",
       "      <td>straight</td>\n",
       "      <td>likes dogs and likes cats</td>\n",
       "      <td>catholicism and somewhat serious about it</td>\n",
       "      <td>f</td>\n",
       "      <td>taurus but it doesn&amp;rsquo;t matter</td>\n",
       "      <td>no</td>\n",
       "      <td>english (fluently), spanish (fluently), italia...</td>\n",
       "      <td>single</td>\n",
       "      <td>8</td>\n",
       "    </tr>\n",
       "    <tr>\n",
       "      <th>30</th>\n",
       "      <td>27</td>\n",
       "      <td>average</td>\n",
       "      <td>anything</td>\n",
       "      <td>socially</td>\n",
       "      <td>NaN</td>\n",
       "      <td>working on college/university</td>\n",
       "      <td>iiiiiiiiiiiiiiiiii.... i hate talking about my...</td>\n",
       "      <td>the pursuit</td>\n",
       "      <td>NaN</td>\n",
       "      <td>NaN</td>\n",
       "      <td>...</td>\n",
       "      <td>NaN</td>\n",
       "      <td>straight</td>\n",
       "      <td>NaN</td>\n",
       "      <td>agnosticism</td>\n",
       "      <td>f</td>\n",
       "      <td>gemini</td>\n",
       "      <td>trying to quit</td>\n",
       "      <td>english, spanish (poorly)</td>\n",
       "      <td>single</td>\n",
       "      <td>8</td>\n",
       "    </tr>\n",
       "    <tr>\n",
       "      <th>33</th>\n",
       "      <td>20</td>\n",
       "      <td>average</td>\n",
       "      <td>mostly vegetarian</td>\n",
       "      <td>socially</td>\n",
       "      <td>never</td>\n",
       "      <td>working on college/university</td>\n",
       "      <td>\"apparently,\" has become a new favorite word o...</td>\n",
       "      <td>working at a doggy daycare. it's really fun an...</td>\n",
       "      <td>being a girl...&lt;br /&gt;\\ncooking vegetarian cuis...</td>\n",
       "      <td>people start speaking to me in spanish and i r...</td>\n",
       "      <td>...</td>\n",
       "      <td>doesn&amp;rsquo;t want kids</td>\n",
       "      <td>straight</td>\n",
       "      <td>has dogs and likes cats</td>\n",
       "      <td>NaN</td>\n",
       "      <td>f</td>\n",
       "      <td>cancer</td>\n",
       "      <td>no</td>\n",
       "      <td>english (fluently), spanish (fluently)</td>\n",
       "      <td>single</td>\n",
       "      <td>8</td>\n",
       "    </tr>\n",
       "    <tr>\n",
       "      <th>...</th>\n",
       "      <td>...</td>\n",
       "      <td>...</td>\n",
       "      <td>...</td>\n",
       "      <td>...</td>\n",
       "      <td>...</td>\n",
       "      <td>...</td>\n",
       "      <td>...</td>\n",
       "      <td>...</td>\n",
       "      <td>...</td>\n",
       "      <td>...</td>\n",
       "      <td>...</td>\n",
       "      <td>...</td>\n",
       "      <td>...</td>\n",
       "      <td>...</td>\n",
       "      <td>...</td>\n",
       "      <td>...</td>\n",
       "      <td>...</td>\n",
       "      <td>...</td>\n",
       "      <td>...</td>\n",
       "      <td>...</td>\n",
       "      <td>...</td>\n",
       "    </tr>\n",
       "    <tr>\n",
       "      <th>59912</th>\n",
       "      <td>25</td>\n",
       "      <td>skinny</td>\n",
       "      <td>NaN</td>\n",
       "      <td>socially</td>\n",
       "      <td>never</td>\n",
       "      <td>working on college/university</td>\n",
       "      <td>well, lets see. the short and quick version is...</td>\n",
       "      <td>i'm just out here working and going to school ...</td>\n",
       "      <td>procrastination! also, writing, videogames, mo...</td>\n",
       "      <td>usually it's my sleepy eyes. most people think...</td>\n",
       "      <td>...</td>\n",
       "      <td>doesn&amp;rsquo;t have kids, but might want them</td>\n",
       "      <td>straight</td>\n",
       "      <td>likes dogs and likes cats</td>\n",
       "      <td>christianity but not too serious about it</td>\n",
       "      <td>f</td>\n",
       "      <td>aries and it&amp;rsquo;s fun to think about</td>\n",
       "      <td>yes</td>\n",
       "      <td>english</td>\n",
       "      <td>single</td>\n",
       "      <td>8</td>\n",
       "    </tr>\n",
       "    <tr>\n",
       "      <th>59914</th>\n",
       "      <td>26</td>\n",
       "      <td>average</td>\n",
       "      <td>mostly anything</td>\n",
       "      <td>rarely</td>\n",
       "      <td>never</td>\n",
       "      <td>working on college/university</td>\n",
       "      <td>i am in school so i may be less than responsiv...</td>\n",
       "      <td>finding myself. seriously. if you want a girl ...</td>\n",
       "      <td>beginners luck.&lt;br /&gt;\\nprocrastination.&lt;br /&gt;\\...</td>\n",
       "      <td>my big black and white dog who is usually at m...</td>\n",
       "      <td>...</td>\n",
       "      <td>NaN</td>\n",
       "      <td>straight</td>\n",
       "      <td>has dogs and has cats</td>\n",
       "      <td>NaN</td>\n",
       "      <td>f</td>\n",
       "      <td>cancer and it&amp;rsquo;s fun to think about</td>\n",
       "      <td>no</td>\n",
       "      <td>english</td>\n",
       "      <td>single</td>\n",
       "      <td>8</td>\n",
       "    </tr>\n",
       "    <tr>\n",
       "      <th>59922</th>\n",
       "      <td>22</td>\n",
       "      <td>thin</td>\n",
       "      <td>vegetarian</td>\n",
       "      <td>socially</td>\n",
       "      <td>sometimes</td>\n",
       "      <td>working on college/university</td>\n",
       "      <td>just kind of a silly girl. super geek. ultra n...</td>\n",
       "      <td>i'm an anthropology/bioarchaeology major in sa...</td>\n",
       "      <td>procrastinating.&lt;br /&gt;\\nmaking a fool out of m...</td>\n",
       "      <td>i have no idea.</td>\n",
       "      <td>...</td>\n",
       "      <td>doesn&amp;rsquo;t have kids, and doesn&amp;rsquo;t wan...</td>\n",
       "      <td>straight</td>\n",
       "      <td>likes dogs and likes cats</td>\n",
       "      <td>NaN</td>\n",
       "      <td>f</td>\n",
       "      <td>cancer but it doesn&amp;rsquo;t matter</td>\n",
       "      <td>no</td>\n",
       "      <td>english (poorly)</td>\n",
       "      <td>single</td>\n",
       "      <td>8</td>\n",
       "    </tr>\n",
       "    <tr>\n",
       "      <th>59924</th>\n",
       "      <td>25</td>\n",
       "      <td>NaN</td>\n",
       "      <td>NaN</td>\n",
       "      <td>socially</td>\n",
       "      <td>never</td>\n",
       "      <td>working on college/university</td>\n",
       "      <td>take clare from six feet under and sprinkle in...</td>\n",
       "      <td>ask me.</td>\n",
       "      <td>making bad jokes, massage, creating experience...</td>\n",
       "      <td>i like dancing anywhere and everywhere to song...</td>\n",
       "      <td>...</td>\n",
       "      <td>NaN</td>\n",
       "      <td>straight</td>\n",
       "      <td>NaN</td>\n",
       "      <td>NaN</td>\n",
       "      <td>f</td>\n",
       "      <td>NaN</td>\n",
       "      <td>no</td>\n",
       "      <td>english, french (poorly)</td>\n",
       "      <td>single</td>\n",
       "      <td>8</td>\n",
       "    </tr>\n",
       "    <tr>\n",
       "      <th>59936</th>\n",
       "      <td>25</td>\n",
       "      <td>average</td>\n",
       "      <td>mostly anything</td>\n",
       "      <td>socially</td>\n",
       "      <td>never</td>\n",
       "      <td>graduated from college/university</td>\n",
       "      <td>NaN</td>\n",
       "      <td>NaN</td>\n",
       "      <td>NaN</td>\n",
       "      <td>my infectious laugh :)</td>\n",
       "      <td>...</td>\n",
       "      <td>doesn&amp;rsquo;t have kids</td>\n",
       "      <td>straight</td>\n",
       "      <td>NaN</td>\n",
       "      <td>atheism</td>\n",
       "      <td>f</td>\n",
       "      <td>virgo but it doesn&amp;rsquo;t matter</td>\n",
       "      <td>no</td>\n",
       "      <td>english (fluently), chinese (fluently)</td>\n",
       "      <td>single</td>\n",
       "      <td>8</td>\n",
       "    </tr>\n",
       "  </tbody>\n",
       "</table>\n",
       "<p>4687 rows × 32 columns</p>\n",
       "</div>"
      ],
      "text/plain": [
       "       age body_type               diet    drinks      drugs  \\\n",
       "8       24       NaN  strictly anything  socially        NaN   \n",
       "17      26   average                NaN  socially      never   \n",
       "21      22  athletic                NaN  socially      never   \n",
       "30      27   average           anything  socially        NaN   \n",
       "33      20   average  mostly vegetarian  socially      never   \n",
       "...    ...       ...                ...       ...        ...   \n",
       "59912   25    skinny                NaN  socially      never   \n",
       "59914   26   average    mostly anything    rarely      never   \n",
       "59922   22      thin         vegetarian  socially  sometimes   \n",
       "59924   25       NaN                NaN  socially      never   \n",
       "59936   25   average    mostly anything  socially      never   \n",
       "\n",
       "                               education  \\\n",
       "8      graduated from college/university   \n",
       "17         working on college/university   \n",
       "21         working on college/university   \n",
       "30         working on college/university   \n",
       "33         working on college/university   \n",
       "...                                  ...   \n",
       "59912      working on college/university   \n",
       "59914      working on college/university   \n",
       "59922      working on college/university   \n",
       "59924      working on college/university   \n",
       "59936  graduated from college/university   \n",
       "\n",
       "                                                  essay0  \\\n",
       "8                                                    NaN   \n",
       "17     to sum myself in whole: i have adventurous ten...   \n",
       "21     my name is ashley and i live in san francisco....   \n",
       "30     iiiiiiiiiiiiiiiiii.... i hate talking about my...   \n",
       "33     \"apparently,\" has become a new favorite word o...   \n",
       "...                                                  ...   \n",
       "59912  well, lets see. the short and quick version is...   \n",
       "59914  i am in school so i may be less than responsiv...   \n",
       "59922  just kind of a silly girl. super geek. ultra n...   \n",
       "59924  take clare from six feet under and sprinkle in...   \n",
       "59936                                                NaN   \n",
       "\n",
       "                                                  essay1  \\\n",
       "8      oh goodness. at the moment i have 4 jobs, so i...   \n",
       "17     i'm currently studying and majoring in crimina...   \n",
       "21     i just graduated from usf with a major in inte...   \n",
       "30                                           the pursuit   \n",
       "33     working at a doggy daycare. it's really fun an...   \n",
       "...                                                  ...   \n",
       "59912  i'm just out here working and going to school ...   \n",
       "59914  finding myself. seriously. if you want a girl ...   \n",
       "59922  i'm an anthropology/bioarchaeology major in sa...   \n",
       "59924                                            ask me.   \n",
       "59936                                                NaN   \n",
       "\n",
       "                                                  essay2  \\\n",
       "8                                                    NaN   \n",
       "17     hmm...i know i can take a test rather well.;) ...   \n",
       "21                                                   NaN   \n",
       "30                                                   NaN   \n",
       "33     being a girl...<br />\\ncooking vegetarian cuis...   \n",
       "...                                                  ...   \n",
       "59912  procrastination! also, writing, videogames, mo...   \n",
       "59914  beginners luck.<br />\\nprocrastination.<br />\\...   \n",
       "59922  procrastinating.<br />\\nmaking a fool out of m...   \n",
       "59924  making bad jokes, massage, creating experience...   \n",
       "59936                                                NaN   \n",
       "\n",
       "                                                  essay3  ...  \\\n",
       "8      i'm freakishly blonde and have the same name a...  ...   \n",
       "17     physically-i've been told my eyes. people usua...  ...   \n",
       "21            my smile. my eyes, and my hair apparently.  ...   \n",
       "30                                                   NaN  ...   \n",
       "33     people start speaking to me in spanish and i r...  ...   \n",
       "...                                                  ...  ...   \n",
       "59912  usually it's my sleepy eyes. most people think...  ...   \n",
       "59914  my big black and white dog who is usually at m...  ...   \n",
       "59922                                    i have no idea.  ...   \n",
       "59924  i like dancing anywhere and everywhere to song...  ...   \n",
       "59936                             my infectious laugh :)  ...   \n",
       "\n",
       "                                               offspring orientation  \\\n",
       "8                                doesn&rsquo;t have kids    straight   \n",
       "17                               doesn&rsquo;t have kids    straight   \n",
       "21          doesn&rsquo;t have kids, but might want them    straight   \n",
       "30                                                   NaN    straight   \n",
       "33                               doesn&rsquo;t want kids    straight   \n",
       "...                                                  ...         ...   \n",
       "59912       doesn&rsquo;t have kids, but might want them    straight   \n",
       "59914                                                NaN    straight   \n",
       "59922  doesn&rsquo;t have kids, and doesn&rsquo;t wan...    straight   \n",
       "59924                                                NaN    straight   \n",
       "59936                            doesn&rsquo;t have kids    straight   \n",
       "\n",
       "                            pets                                   religion  \\\n",
       "8      likes dogs and likes cats  christianity but not too serious about it   \n",
       "17                           NaN                                        NaN   \n",
       "21     likes dogs and likes cats  catholicism and somewhat serious about it   \n",
       "30                           NaN                                agnosticism   \n",
       "33       has dogs and likes cats                                        NaN   \n",
       "...                          ...                                        ...   \n",
       "59912  likes dogs and likes cats  christianity but not too serious about it   \n",
       "59914      has dogs and has cats                                        NaN   \n",
       "59922  likes dogs and likes cats                                        NaN   \n",
       "59924                        NaN                                        NaN   \n",
       "59936                        NaN                                    atheism   \n",
       "\n",
       "      sex                                      sign          smokes  \\\n",
       "8       f        gemini but it doesn&rsquo;t matter   when drinking   \n",
       "17      f   aries and it&rsquo;s fun to think about              no   \n",
       "21      f        taurus but it doesn&rsquo;t matter              no   \n",
       "30      f                                    gemini  trying to quit   \n",
       "33      f                                    cancer              no   \n",
       "...    ..                                       ...             ...   \n",
       "59912   f   aries and it&rsquo;s fun to think about             yes   \n",
       "59914   f  cancer and it&rsquo;s fun to think about              no   \n",
       "59922   f        cancer but it doesn&rsquo;t matter              no   \n",
       "59924   f                                       NaN              no   \n",
       "59936   f         virgo but it doesn&rsquo;t matter              no   \n",
       "\n",
       "                                                  speaks  status label  \n",
       "8                                                english  single     8  \n",
       "17                                               english  single     8  \n",
       "21     english (fluently), spanish (fluently), italia...  single     8  \n",
       "30                             english, spanish (poorly)  single     8  \n",
       "33                english (fluently), spanish (fluently)  single     8  \n",
       "...                                                  ...     ...   ...  \n",
       "59912                                            english  single     8  \n",
       "59914                                            english  single     8  \n",
       "59922                                   english (poorly)  single     8  \n",
       "59924                           english, french (poorly)  single     8  \n",
       "59936             english (fluently), chinese (fluently)  single     8  \n",
       "\n",
       "[4687 rows x 32 columns]"
      ]
     },
     "execution_count": 79,
     "metadata": {},
     "output_type": "execute_result"
    }
   ],
   "source": [
    "preferred_orientation = 'straight'\n",
    "preferred_sex = 'f'\n",
    "possible_recommendations = df[ (df['label']==predicted_cluster) \n",
    "                              & (df['sex']==preferred_sex) \n",
    "                              & (df['orientation']==preferred_orientation\n",
    "                            )]\n",
    "possible_recommendations"
   ]
  },
  {
   "cell_type": "markdown",
   "metadata": {},
   "source": [
    "<hr>"
   ]
  },
  {
   "cell_type": "markdown",
   "metadata": {},
   "source": [
    "## Conclusions\n",
    "- bETTER ways to input information for new predictions\n",
    "- The predictions are really good, they are like the people that are inputted\n",
    "- the output were any number of profiles from the original dataset, this is because it is more human friendly than the modified features output.\n",
    "- perhaps order the recommendations taking into account another cirteria"
   ]
  },
  {
   "cell_type": "markdown",
   "metadata": {},
   "source": [
    "## Further research\n",
    "- perhaps explore new ways of serendipity by new algorithm, clustering by other factors\n",
    "- perhaps include some way to filter the results by the categories most important for the client (in this case they were sex, and orientation). Perhaps include this filters into the algorithm itself (e.g. different clusters according to different filters)"
   ]
  }
 ],
 "metadata": {
  "kernelspec": {
   "display_name": "Python 3 (ipykernel)",
   "language": "python",
   "name": "python3"
  },
  "language_info": {
   "codemirror_mode": {
    "name": "ipython",
    "version": 3
   },
   "file_extension": ".py",
   "mimetype": "text/x-python",
   "name": "python",
   "nbconvert_exporter": "python",
   "pygments_lexer": "ipython3",
   "version": "3.9.13"
  }
 },
 "nbformat": 4,
 "nbformat_minor": 4
}
